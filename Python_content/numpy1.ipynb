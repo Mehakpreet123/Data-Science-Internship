{
 "cells": [
  {
   "cell_type": "code",
   "execution_count": 3,
   "metadata": {},
   "outputs": [
    {
     "name": "stdout",
     "output_type": "stream",
     "text": [
      "[1 2 3 4 5]\n",
      "<class 'numpy.ndarray'>\n",
      "2.0.0\n"
     ]
    }
   ],
   "source": [
    "# importing numpy -> pip install numpy\n",
    "import numpy as np \n",
    "a = np.array([1,2,3,4,5])\n",
    "print(a)\n",
    "print(type(a))\n",
    "print(np.__version__) "
   ]
  },
  {
   "cell_type": "markdown",
   "metadata": {},
   "source": [
    "CREATION OF ARRAYS\n",
    "we can create array by using array() function"
   ]
  },
  {
   "cell_type": "code",
   "execution_count": 4,
   "metadata": {},
   "outputs": [
    {
     "name": "stdout",
     "output_type": "stream",
     "text": [
      "[1 2 3]\n"
     ]
    }
   ],
   "source": [
    "arr=np.array((1,2,3))\n",
    "print(arr)"
   ]
  },
  {
   "cell_type": "markdown",
   "metadata": {},
   "source": [
    "DIMENSIONALITY IN ARRAYS"
   ]
  },
  {
   "cell_type": "code",
   "execution_count": 19,
   "metadata": {},
   "outputs": [
    {
     "name": "stdout",
     "output_type": "stream",
     "text": [
      "[[[1 2 3]\n",
      "  [5 6 7]]\n",
      "\n",
      " [[2 3 4]\n",
      "  [7 8 9]]]\n",
      "0\n",
      "----------------------------------------------------------\n",
      " [13 56 45 34]\n",
      "1\n",
      "----------------------------------------------------------\n",
      " [[1 2 3]\n",
      " [5 6 7]]\n",
      "2\n",
      "----------------------------------------------------------\n",
      " [[[1 2 3]\n",
      "  [5 6 7]]\n",
      "\n",
      " [[2 3 4]\n",
      "  [7 8 9]]]\n",
      "3\n",
      "----------------------------------------------------------\n",
      " [[[[1 2 3]\n",
      "   [4 5 6]\n",
      "   [6 7 8]]\n",
      "\n",
      "  [[2 3 4]\n",
      "   [5 6 7]\n",
      "   [7 8 9]]]]\n",
      "4\n"
     ]
    }
   ],
   "source": [
    "# 0D array\n",
    "a=np.array(34)\n",
    "print(arr)\n",
    "print(a.ndim)\n",
    "# 1 D array\n",
    "b=np.array([13,56,45,34]) \n",
    "print(\"----------------------------------------------------------\\n\",b)\n",
    "print(b.ndim)\n",
    "# 2D array -- that has 1 D arrays as the elements\n",
    "c=np.array([[1,2,3],[5,6,7]])\n",
    "print(\"----------------------------------------------------------\\n\",c)\n",
    "print(c.ndim)\n",
    "#3-D arrays\n",
    "# An array that has 2-D arrays (matrices) as its elements is called 3-D array.\n",
    "\n",
    "d=np.array([\n",
    "    [[1,2,3],[5,6,7]],\n",
    "    [[2,3,4],[7,8,9]]\n",
    "              ])\n",
    "print(\"----------------------------------------------------------\\n\",d)\n",
    "print(d.ndim)\n",
    "\n",
    "# 4 dim where each elem is 3 dim (has 3 D array as element)\n",
    "e=np.array([\n",
    "    [[[1,2,3],[4,5,6],[6,7,8]],\n",
    "    [[2,3,4],[5,6,7],[7,8,9]]]\n",
    "    ])\n",
    "print(\"----------------------------------------------------------\\n\",e)\n",
    "print(e.ndim)"
   ]
  },
  {
   "cell_type": "markdown",
   "metadata": {},
   "source": [
    "In this array the innermost dimension (5th dim) has 4 elements, the 4th dim has 1 element that is the vector, the 3rd dim has 1 element that is the matrix with the vector, the 2nd dim has 1 element that is 3D array and 1st dim has 1 element that is a 4D array.\n",
    "\n"
   ]
  },
  {
   "cell_type": "code",
   "execution_count": 22,
   "metadata": {},
   "outputs": [
    {
     "name": "stdout",
     "output_type": "stream",
     "text": [
      "[[[[[1 2 3 4]]]]]\n"
     ]
    }
   ],
   "source": [
    "arr=np.array([1,2,3,4],ndmin=5)\n",
    "print(arr)"
   ]
  },
  {
   "cell_type": "markdown",
   "metadata": {},
   "source": [
    "INDEXING\n",
    "\n",
    "positive step -  starts from given index and goes forward till last-1\n",
    "negative step - starts from given index and goes backward till last-1"
   ]
  },
  {
   "cell_type": "code",
   "execution_count": 43,
   "metadata": {},
   "outputs": [
    {
     "name": "stdout",
     "output_type": "stream",
     "text": [
      "45\n",
      "90\n",
      "[78 89 90]\n",
      "[78 67 56 45]\n",
      "[45 56 67 78 89 90]\n",
      "[90 89 78 67 56 45]\n",
      "[]\n",
      "[]\n"
     ]
    }
   ],
   "source": [
    "# one dim array\n",
    "arr=np.array([45,56,67,78,89,90])\n",
    "print(arr[0])\n",
    "print(arr[-1])\n",
    "# print(arr[-8]) , print(arr[9])-- out of bounds\n",
    "print(arr[-3:]) # from -3 index to last\n",
    "print(arr[-3::-1]) # from -3 to 0 index as we are using -1 here so it goes backward with step 1\n",
    "print(arr[:]) # goes from start to end with step 1\n",
    "print(arr[::-1]) \n",
    "print(arr[-4:-1:-1]) # empty as it will start from -4 in backward , it will not find -1 there\n",
    "print(arr[-1:-4])\n"
   ]
  },
  {
   "cell_type": "code",
   "execution_count": 40,
   "metadata": {},
   "outputs": [
    {
     "name": "stdout",
     "output_type": "stream",
     "text": [
      "[4 5 6 7 9 0]\n",
      "4\n",
      "0\n"
     ]
    }
   ],
   "source": [
    "# 2 DIM ARRAY -- using , to represent dim and element\n",
    "arr=np.array([[1,2,3,4,5,6],[4,5,6,7,9,0]])\n",
    "print(arr[1])\n",
    "print(arr[0,3])\n",
    "print(arr[1,5])"
   ]
  },
  {
   "cell_type": "markdown",
   "metadata": {},
   "source": [
    "arr[0, 1, 2] prints the value 6.\n",
    "\n",
    "And this is why:\n",
    "\n",
    "The first number represents the first dimension, which contains two arrays:\n",
    "[[1, 2, 3], [4, 5, 6]]\n",
    "and:\n",
    "[[7, 8, 9], [10, 11, 12]]\n",
    "Since we selected 0, we are left with the first array:\n",
    "[[1, 2, 3], [4, 5, 6]]\n",
    "\n",
    "The second number represents the second dimension, which also contains two arrays:\n",
    "[1, 2, 3]\n",
    "and:\n",
    "[4, 5, 6]\n",
    "Since we selected 1, we are left with the second array:\n",
    "[4, 5, 6]"
   ]
  },
  {
   "cell_type": "code",
   "execution_count": 41,
   "metadata": {},
   "outputs": [
    {
     "name": "stdout",
     "output_type": "stream",
     "text": [
      "4\n",
      "4\n"
     ]
    }
   ],
   "source": [
    "# 3 dim array\n",
    "arr=np.array([\n",
    "    [[2,3,4]],[[3,4,5]]\n",
    "    ])\n",
    "print(arr[0,0,2]) #4\n",
    "print(arr[1,0,1]) #4\n",
    "\n",
    "\n",
    "arr = np.array([[[1, 2, 3], [4, 5, 6]], [[7, 8, 9], [10, 11, 12]]])\n",
    "\n",
    "print(arr[0, 1, 2])"
   ]
  },
  {
   "cell_type": "code",
   "execution_count": 42,
   "metadata": {},
   "outputs": [
    {
     "name": "stdout",
     "output_type": "stream",
     "text": [
      "Last element from 2nd dim:  10\n"
     ]
    }
   ],
   "source": [
    "arr = np.array([[1,2,3,4,5], [6,7,8,9,10]])\n",
    "\n",
    "print('Last element from 2nd dim: ', arr[1, -1])"
   ]
  },
  {
   "cell_type": "markdown",
   "metadata": {},
   "source": [
    "ARRAY SLICING (colon is used)\n",
    "We pass slice instead of index like this: [start:end].\n",
    "\n",
    "We can also define the step, like this: [start:end:step].\n",
    "\n",
    "If we don't pass start its considered 0\n",
    "\n",
    "If we don't pass end its considered length of array in that dimension\n",
    "\n",
    "If we don't pass step its considered 1"
   ]
  },
  {
   "cell_type": "code",
   "execution_count": 48,
   "metadata": {},
   "outputs": [
    {
     "name": "stdout",
     "output_type": "stream",
     "text": [
      "[7 8 9]\n",
      "[3 8]\n",
      "[[2 3 4]\n",
      " [7 8 9]]\n"
     ]
    }
   ],
   "source": [
    "#slicing 2D arrays\n",
    "arr = np.array([[1, 2, 3, 4, 5], [6, 7, 8, 9, 10]])\n",
    "\n",
    "print(arr[1, 1:4])\n",
    "\n",
    "# from both elements get 2nd index\n",
    "arr = np.array([[1, 2, 3, 4, 5], [6, 7, 8, 9, 10]])\n",
    "\n",
    "print(arr[0:2,2])\n",
    "\n",
    "#From both elements, slice index 1 to index 4 (not included), this will return a 2-D array:\n",
    "arr = np.array([[1, 2, 3, 4, 5], [6, 7, 8, 9, 10]])\n",
    "\n",
    "print(arr[0:2, 1:4])"
   ]
  },
  {
   "cell_type": "markdown",
   "metadata": {},
   "source": [
    "DATATYPES IN NUMPY\n",
    "By default Python have these data types:\n",
    "\n",
    "strings - used to represent text data, the text is given under quote marks. e.g. \"ABCD\"\n",
    "integer - used to represent integer numbers. e.g. -1, -2, -3\n",
    "float - used to represent real numbers. e.g. 1.2, 42.42\n",
    "boolean - used to represent True or False.\n",
    "complex - used to represent complex numbers. e.g. 1.0 + 2.0j, 1.5 + 2.\n",
    "\n",
    "NUMPY\n",
    "Below is a list of all data types in NumPy and the characters used to represent them.\n",
    "\n",
    "i - integer\n",
    "b - boolean\n",
    "u - unsigned integer\n",
    "f - float\n",
    "c - complex float\n",
    "m - timedelta\n",
    "M - datetime\n",
    "O - object\n",
    "S - string\n",
    "U - unicode string\n",
    "V - fixed chunk of memory for other type ( void )"
   ]
  },
  {
   "cell_type": "code",
   "execution_count": 51,
   "metadata": {},
   "outputs": [
    {
     "name": "stdout",
     "output_type": "stream",
     "text": [
      "<U6\n",
      "int64\n"
     ]
    }
   ],
   "source": [
    "arr = np.array([\"apple\", 'banana', 'cherry'])\n",
    "\n",
    "print(arr.dtype)\n",
    "\n",
    "arr = np.array([12,3,4])\n",
    "print(arr.dtype)"
   ]
  },
  {
   "cell_type": "code",
   "execution_count": 65,
   "metadata": {},
   "outputs": [
    {
     "name": "stdout",
     "output_type": "stream",
     "text": [
      "[b'1' b'2' b'3' b'4']\n",
      "|S1\n",
      "[1 2 3 4]\n",
      "int64\n",
      "['1' '2' '5.6' 'mehak']\n",
      "<U32\n"
     ]
    }
   ],
   "source": [
    "# we can define datatype explicitlly AT THE TIME OF CREATION\n",
    "# For i, u, f, S and U we can define size as well\n",
    "# ValueError: In Python ValueError is raised when the type of passed argument to a function is unexpected/incorrect.\n",
    "arr = np.array([1, 2, 3, 4], dtype='S')\n",
    "\n",
    "print(arr)\n",
    "print(arr.dtype)\n",
    "\n",
    "arr = np.array([1, 2, 3, 4], dtype='i8') # 8 bytes ie 64 bits int\n",
    "\n",
    "print(arr)\n",
    "print(arr.dtype)\n",
    "\n",
    "arr=np.array([1,2,5.6,\"mehak\"])\n",
    "print(arr)\n",
    "print(arr.dtype)"
   ]
  },
  {
   "cell_type": "code",
   "execution_count": 72,
   "metadata": {},
   "outputs": [
    {
     "name": "stdout",
     "output_type": "stream",
     "text": [
      "[1 2 3]\n",
      "int32\n",
      "['1' '0' '3']\n",
      "<U21\n"
     ]
    }
   ],
   "source": [
    "# changing the dataype for existing array using astype()\n",
    "arr = np.array([1.1, 2.1, 3.1])\n",
    "\n",
    "newarr = arr.astype('i')\n",
    "\n",
    "print(newarr)\n",
    "print(newarr.dtype)\n",
    "\n",
    "\n",
    "arr = np.array([1, 0, 3]) # 0 is false rest are true\n",
    "\n",
    "newarr = arr.astype(bool) # we can use keyword also like int,bool,float,str\n",
    "\n",
    "print(newarr)\n",
    "print(newarr.dtype)"
   ]
  },
  {
   "cell_type": "markdown",
   "metadata": {},
   "source": [
    "COPY AND VIEW\n",
    "The main difference between a copy and a view of an array is that the copy is a new array, and the view is just a view of the original array.\n",
    "\n",
    "The copy owns the data and any changes made to the copy will not affect original array, and any changes made to the original array will not affect the copy.\n",
    "\n",
    "The view does not own the data and any changes made to the view will affect the original array, and any changes made to the original array will affect the view.\n",
    "\n"
   ]
  },
  {
   "cell_type": "code",
   "execution_count": 77,
   "metadata": {},
   "outputs": [
    {
     "name": "stdout",
     "output_type": "stream",
     "text": [
      "[42  2  3  4  5]\n",
      "[1 2 3 4 5]\n",
      "---------------------------------------\n",
      "[42  2  3  4  5]\n",
      "[42  2  3  4  5]\n",
      "---------------------------------------\n",
      "[31  2  3  4  5]\n",
      "[31  2  3  4  5]\n"
     ]
    }
   ],
   "source": [
    "arr = np.array([1, 2, 3, 4, 5])\n",
    "x = arr.copy()\n",
    "arr[0] = 42\n",
    "\n",
    "print(arr)\n",
    "print(x)\n",
    "print(\"---------------------------------------\")\n",
    "arr = np.array([1, 2, 3, 4, 5])\n",
    "x = arr.view()\n",
    "arr[0] = 42\n",
    "\n",
    "print(arr)\n",
    "print(x)\n",
    "print(\"---------------------------------------\")\n",
    "arr = np.array([1, 2, 3, 4, 5])\n",
    "x = arr.view()\n",
    "x[0] = 31\n",
    "\n",
    "print(arr)\n",
    "print(x)"
   ]
  },
  {
   "cell_type": "markdown",
   "metadata": {},
   "source": [
    "Every NumPy array has the attribute base that returns None if the array owns the data.\n",
    "\n",
    "Otherwise, the base  attribute refers to the original object."
   ]
  },
  {
   "cell_type": "code",
   "execution_count": 78,
   "metadata": {},
   "outputs": [
    {
     "name": "stdout",
     "output_type": "stream",
     "text": [
      "None\n",
      "[1 2 3 4 5]\n"
     ]
    }
   ],
   "source": [
    "arr = np.array([1, 2, 3, 4, 5])\n",
    "\n",
    "x = arr.copy()\n",
    "y = arr.view()\n",
    "\n",
    "print(x.base)\n",
    "print(y.base)"
   ]
  },
  {
   "cell_type": "markdown",
   "metadata": {},
   "source": [
    "NumPy arrays have an attribute called shape that returns a tuple with each index having the number of corresponding elements."
   ]
  },
  {
   "cell_type": "code",
   "execution_count": 82,
   "metadata": {},
   "outputs": [
    {
     "name": "stdout",
     "output_type": "stream",
     "text": [
      "(2, 4)\n",
      "[[[[[1 2 3 4]]]]]\n",
      "shape of array : (1, 1, 1, 1, 4)\n",
      "3\n"
     ]
    }
   ],
   "source": [
    "arr = np.array([[1, 2, 3, 4], [5, 6, 7, 8]])\n",
    "\n",
    "print(arr.shape)  # (2,4) -- The example above returns (2, 4), which means that the array has 2 dimensions,\n",
    "# where the first dimension has 2 elements and the second has 4.\n",
    "\n",
    "arr = np.array([1, 2, 3, 4], ndmin=5)\n",
    "\n",
    "print(arr)\n",
    "print('shape of array :', arr.shape)\n",
    "print(arr[0,0,0,0,2])\n",
    "\n",
    "# Integers at every index tells about the number of elements the corresponding dimension has.\n",
    "# In the example above at index-4 we have value 4, so we can say that 5th ( 4 + 1 th) dimension has 4 elements."
   ]
  },
  {
   "cell_type": "markdown",
   "metadata": {},
   "source": [
    "Reshaping arrays\n",
    "Reshaping means changing the shape of an array.\n",
    "\n",
    "The shape of an array is the number of elements in each dimension.\n",
    "\n",
    "By reshaping we can add or remove dimensions or change number of elements in each dimension.\n",
    "\n"
   ]
  },
  {
   "cell_type": "code",
   "execution_count": 83,
   "metadata": {},
   "outputs": [
    {
     "name": "stdout",
     "output_type": "stream",
     "text": [
      "[[ 1  2  3]\n",
      " [ 4  5  6]\n",
      " [ 7  8  9]\n",
      " [10 11 12]]\n"
     ]
    }
   ],
   "source": [
    "#The outermost dimension will have 4 arrays, each with 3 elements:\n",
    "arr = np.array([1, 2, 3, 4, 5, 6, 7, 8, 9, 10, 11, 12])\n",
    "\n",
    "newarr = arr.reshape(4, 3)\n",
    "\n",
    "print(newarr)"
   ]
  },
  {
   "cell_type": "code",
   "execution_count": 85,
   "metadata": {},
   "outputs": [
    {
     "name": "stdout",
     "output_type": "stream",
     "text": [
      "[ 1  2  3  4  5  6  7  8  9 10 11 12]\n"
     ]
    }
   ],
   "source": [
    "# The outermost dimension will have 2 arrays that contains 3 arrays, each with 2 elements\n",
    "arr = np.array([1, 2, 3, 4, 5, 6, 7, 8, 9, 10, 11, 12])\n",
    "\n",
    "newarr = arr.reshape(2, 3, 2)\n",
    "\n",
    "print(newarr)"
   ]
  },
  {
   "cell_type": "markdown",
   "metadata": {},
   "source": [
    "Can We Reshape Into any Shape?\n",
    "Yes, as long as the elements required for reshaping are equal in both shapes.\n",
    "\n",
    "We can reshape an 8 elements 1D array into 4 elements in 2 rows 2D array but we cannot reshape it into a 3 elements 3 rows 2D array as that would require 3x3 = 9 elements."
   ]
  },
  {
   "cell_type": "code",
   "execution_count": 84,
   "metadata": {},
   "outputs": [
    {
     "name": "stdout",
     "output_type": "stream",
     "text": [
      "[1 2 3 4 5 6 7 8]\n"
     ]
    }
   ],
   "source": [
    "arr = np.array([1, 2, 3, 4, 5, 6, 7, 8])\n",
    "\n",
    "print(arr.reshape(2, 4).base)  # hence it does not owns the array"
   ]
  },
  {
   "cell_type": "markdown",
   "metadata": {},
   "source": [
    "You are allowed to have one \"unknown\" dimension.\n",
    "\n",
    "Meaning that you do not have to specify an exact number for one of the dimensions in the reshape method.\n",
    "\n",
    "Pass -1 as the value, and NumPy will calculate this number for you.\n",
    "We can not pass -1 to more than one dimension."
   ]
  },
  {
   "cell_type": "code",
   "execution_count": 86,
   "metadata": {},
   "outputs": [
    {
     "name": "stdout",
     "output_type": "stream",
     "text": [
      "[[[1 2]\n",
      "  [3 4]]\n",
      "\n",
      " [[5 6]\n",
      "  [7 8]]]\n"
     ]
    }
   ],
   "source": [
    "arr = np.array([1, 2, 3, 4, 5, 6, 7, 8])\n",
    "\n",
    "newarr = arr.reshape(2, 2, -1)\n",
    "\n",
    "print(newarr)"
   ]
  },
  {
   "cell_type": "markdown",
   "metadata": {},
   "source": [
    "Flattening array means converting a multidimensional array into a 1D array.\n",
    "\n",
    "We can use reshape(-1) to do this."
   ]
  },
  {
   "cell_type": "code",
   "execution_count": 87,
   "metadata": {},
   "outputs": [
    {
     "name": "stdout",
     "output_type": "stream",
     "text": [
      "[1 2 3 4 5 6]\n"
     ]
    }
   ],
   "source": [
    "arr = np.array([[1, 2, 3], [4, 5, 6]])\n",
    "\n",
    "newarr = arr.reshape(-1)\n",
    "\n",
    "print(newarr)"
   ]
  }
 ],
 "metadata": {
  "kernelspec": {
   "display_name": "Python 3",
   "language": "python",
   "name": "python3"
  },
  "language_info": {
   "codemirror_mode": {
    "name": "ipython",
    "version": 3
   },
   "file_extension": ".py",
   "mimetype": "text/x-python",
   "name": "python",
   "nbconvert_exporter": "python",
   "pygments_lexer": "ipython3",
   "version": "3.12.4"
  }
 },
 "nbformat": 4,
 "nbformat_minor": 2
}
