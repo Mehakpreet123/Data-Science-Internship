{
 "cells": [
  {
   "cell_type": "markdown",
   "metadata": {},
   "source": [
    "OOPs Concepts in Python\n",
    "Class -- A class is a collection of objects. A class contains the blueprints or the prototype from which the objects are being created. It is a logical entity that contains some attributes and methods. \n",
    "Objects -- In object oriented programming Python, The object is an entity that has a state and behavior associated with it. It may be any real-world object\n",
    "Polymorphism -- Polymorphism simply means having many forms. \n",
    "Encapsulation -- It describes the idea of wrapping data and the methods that work on data within one unit. This puts restrictions on accessing variables and methods directly and can prevent the accidental modification of data. \n",
    "Inheritance -- extending the exisitng functionality of the class by inheriting features from parent class\n",
    "Data Abstraction -- It hides unnecessary code details from the user. Also,  when we do not want to give out sensitive parts of our code implementation and this is where data abstraction came."
   ]
  },
  {
   "cell_type": "code",
   "execution_count": null,
   "metadata": {},
   "outputs": [],
   "source": [
    "# class\n",
    "class animal:\n",
    "    pass\n",
    "\n",
    "# object\n",
    "dog=animal()"
   ]
  },
  {
   "cell_type": "markdown",
   "metadata": {},
   "source": [
    "Self keyword--Class methods must have an extra first parameter in the method definition. We do not give a value for this parameter when we call the method, Python provides it. It is a refernce to the current object"
   ]
  },
  {
   "cell_type": "code",
   "execution_count": 1,
   "metadata": {},
   "outputs": [
    {
     "name": "stdout",
     "output_type": "stream",
     "text": [
      "John\n"
     ]
    }
   ],
   "source": [
    "class person:\n",
    "    def student(self,name):\n",
    "        print(name)\n",
    "obj=person()\n",
    "obj.student(\"John\")"
   ]
  },
  {
   "cell_type": "markdown",
   "metadata": {},
   "source": [
    "The __init__ method is similar to constructors. It is run as soon as an object of a class is instantiated. The method is useful to do any initialization you want to do with your object"
   ]
  },
  {
   "cell_type": "code",
   "execution_count": 3,
   "metadata": {},
   "outputs": [
    {
     "name": "stdout",
     "output_type": "stream",
     "text": [
      "Rodger is a mammal\n",
      "Tommy is also a mammal\n",
      "My name is Rodger\n",
      "My name is Tommy\n"
     ]
    }
   ],
   "source": [
    "class Dog:\n",
    "    attr1 = \"mammal\"\n",
    "\n",
    "    def __init__(self, name):\n",
    "        self.name = name  # name is instance variable\n",
    "Rodger = Dog(\"Rodger\")\n",
    "Tommy = Dog(\"Tommy\")\n",
    "\n",
    "# Accessing class attributes\n",
    "print(\"Rodger is a {}\".format(Dog.attr1)) # use dot operator on class name to access class attribute\n",
    "print(\"Tommy is also a {}\".format(Tommy.__class__.attr1)) # Tommy.__class__ -- this refers to class of object tommy\n",
    "\n",
    "# Accessing instance attributes\n",
    "print(\"My name is {}\".format(Rodger.name)) # to access instance variable we can use dot operateor on object\n",
    "print(\"My name is {}\".format(Tommy.name))"
   ]
  },
  {
   "cell_type": "code",
   "execution_count": 4,
   "metadata": {},
   "outputs": [
    {
     "name": "stdout",
     "output_type": "stream",
     "text": [
      "name is: John\n",
      "age is: 23\n"
     ]
    }
   ],
   "source": [
    "class person:\n",
    "    def __init__(self,name ,age):\n",
    "        self.name=name\n",
    "        self.age=age\n",
    "    def show(self):\n",
    "        print(\"name is:\",self.name)\n",
    "        print(\"age is:\",self.age)\n",
    "obj=person(\"John\",23)\n",
    "obj.show()"
   ]
  },
  {
   "cell_type": "markdown",
   "metadata": {},
   "source": [
    "Class methods can be used to provide alternative ways of creating instances of a class. This is often useful when you want to create instances using different parameters or from different sources. "
   ]
  },
  {
   "cell_type": "code",
   "execution_count": 5,
   "metadata": {},
   "outputs": [
    {
     "name": "stdout",
     "output_type": "stream",
     "text": [
      "21\n",
      "28\n",
      "True\n"
     ]
    }
   ],
   "source": [
    "from datetime import date\n",
    "\n",
    "class Person:\n",
    "\tdef __init__(self, name, age):\n",
    "\t\tself.name = name\n",
    "\t\tself.age = age\n",
    "\t\t\n",
    "\t@classmethod\n",
    "\tdef fromBirthYear(cls, name, year):\n",
    "\t\treturn cls(name, date.today().year - year) # new object will be crated with name and calculated age which will be stored in person2\n",
    "\n",
    "\t@staticmethod\n",
    "\tdef isAdult(age):\n",
    "\t\treturn age > 18\n",
    "\n",
    "person1 = Person('mayank', 21)\n",
    "person2 = Person.fromBirthYear('mayank', 1996) # person 2 is initialized using class method\n",
    "\n",
    "print(person1.age)\n",
    "print(person2.age)\n",
    "\n",
    "# print the result\n",
    "print(Person.isAdult(22))\n"
   ]
  },
  {
   "cell_type": "markdown",
   "metadata": {},
   "source": [
    "Whenever a class is instantiated __new__ and __init__ methods are called. __new__ method will be called when an object is created and __init__ method will be called to initialize the object. In the base class object, the __new__ method is defined as a static method which requires to pass a parameter cls. cls represents the class that is needed to be instantiated"
   ]
  },
  {
   "cell_type": "code",
   "execution_count": 9,
   "metadata": {},
   "outputs": [
    {
     "name": "stdout",
     "output_type": "stream",
     "text": [
      "Creating instance\n",
      "Init is called\n",
      "name is John\n"
     ]
    }
   ],
   "source": [
    "\n",
    "class A(): \n",
    "    def __new__(cls,name):  # all the arguments of class will be passed here or we can use *args\n",
    "         print(\"Creating instance\") \n",
    "         return super(A, cls).__new__(cls)  # this calls super class new to actually create the object\n",
    "  \n",
    "    def __init__(self,name):\n",
    "        self.name=name \n",
    "        print(\"Init is called\") \n",
    "    def __str__(self):\n",
    "        return f\"name is {self.name}\"\n",
    "  \n",
    "obj=A(\"John\")\n",
    "print(obj)"
   ]
  },
  {
   "cell_type": "markdown",
   "metadata": {},
   "source": [
    "METHOD OVERLOADING: Two or more methods have the same name but different numbers of parameters or different types of parameters, or both. These methods are called overloaded methods and this is called method overloading. "
   ]
  },
  {
   "cell_type": "code",
   "execution_count": 14,
   "metadata": {},
   "outputs": [
    {
     "name": "stdout",
     "output_type": "stream",
     "text": [
      "100\n",
      "12\n"
     ]
    }
   ],
   "source": [
    "class A:\n",
    "\n",
    "    def product(self,a, b, c=1):\n",
    "        p = a * b*c\n",
    "        print(p)\n",
    "\n",
    "obj = A()\n",
    "obj.product(4, 5, 5)\n",
    "obj.product(3,4)"
   ]
  },
  {
   "cell_type": "markdown",
   "metadata": {},
   "source": [
    "DATA ENCAPSULATION\n",
    "private members can be returned by functions inside a class. Private members in Python are not truly private; they are name-mangled to make it harder to access them from outside the class, but they can still be accessed within the class, including from methods."
   ]
  },
  {
   "cell_type": "code",
   "execution_count": 22,
   "metadata": {},
   "outputs": [
    {
     "name": "stdout",
     "output_type": "stream",
     "text": [
      "user34\n",
      "Calling private member of base class: \n",
      "user34\n"
     ]
    }
   ],
   "source": [
    "# Private attributes start with \"__\".\n",
    "\n",
    "class Base:\n",
    "    def __init__(self):\n",
    "        self.a = \"user34\"\n",
    "        self.__c = \"pass123\" \n",
    "\n",
    "class Derived(Base):\n",
    "    def __init__(self):\n",
    "        Base.__init__(self)\n",
    "        print(\"Calling private member of base class: \")\n",
    "        #print(self.__c) --error\n",
    "\n",
    "obj1 = Base()\n",
    "print(obj1.a)\n",
    "#print(obj1.c) # error\n",
    "obj2=Derived()\n",
    "#print(obj2.c) #-- will raise an error as c is private hence cannot be accessed outside the class\n",
    "print(obj2.a)"
   ]
  }
 ],
 "metadata": {
  "kernelspec": {
   "display_name": "Python 3",
   "language": "python",
   "name": "python3"
  },
  "language_info": {
   "codemirror_mode": {
    "name": "ipython",
    "version": 3
   },
   "file_extension": ".py",
   "mimetype": "text/x-python",
   "name": "python",
   "nbconvert_exporter": "python",
   "pygments_lexer": "ipython3",
   "version": "3.12.2"
  }
 },
 "nbformat": 4,
 "nbformat_minor": 2
}
