{
 "cells": [
  {
   "cell_type": "markdown",
   "metadata": {},
   "source": [
    "It is a table of elements (usually numbers), all of the same type, indexed by a tuple of positive integers.\n",
    "In NumPy, dimensions are called axes. The number of axes is rank.\n",
    "NumPy’s array class is called ndarray. It is also known by the alias array."
   ]
  },
  {
   "cell_type": "code",
   "execution_count": null,
   "metadata": {},
   "outputs": [],
   "source": [
    "import numpy as np"
   ]
  },
  {
   "cell_type": "code",
   "execution_count": null,
   "metadata": {},
   "outputs": [],
   "source": [
    "\n",
    "\n",
    "# Creating array object\n",
    "arr = np.array( [[ 1, 2, 3],\n",
    "                 [ 4, 2, 5]] )\n",
    "\n",
    "# Printing type of arr object\n",
    "print(\"Array is of type: \", type(arr))\n",
    "\n",
    "# Printing array dimensions (axes)\n",
    "print(\"No. of dimensions: \", arr.ndim)\n",
    "\n",
    "# Printing shape of array\n",
    "print(\"Shape of array: \", arr.shape)\n",
    "\n",
    "# Printing size (total number of elements) of array\n",
    "print(\"Size of array: \", arr.size)\n",
    "\n",
    "# Printing type of elements in array\n",
    "print(\"Array stores elements of type: \", arr.dtype)\n"
   ]
  },
  {
   "cell_type": "markdown",
   "metadata": {},
   "source": [
    "CREATION\n"
   ]
  },
  {
   "cell_type": "code",
   "execution_count": null,
   "metadata": {},
   "outputs": [],
   "source": [
    "import numpy as np\n",
    "\n",
    "# Creating array from list with type float\n",
    "a = np.array([[1, 2, 4], [5, 8, 7]], dtype = 'float')\n",
    "print (\"Array created using passed list:\\n\", a)\n",
    "\n",
    "# Creating array from tuple\n",
    "b = np.array((1 , 3, 2))\n",
    "print (\"\\nArray created using passed tuple:\\n\", b)\n"
   ]
  },
  {
   "cell_type": "code",
   "execution_count": null,
   "metadata": {},
   "outputs": [],
   "source": [
    "# Creating a 3X4 array with all zeros\n",
    "c = np.zeros((3, 4))\n",
    "print (\"An array initialized with all zeros:\\n\", c)\n",
    "\n",
    "# Create a constant value array of complex type\n",
    "d = np.full((3, 3), 6, dtype = 'complex')\n",
    "print (\"An array initialized with all 6s.\" \n",
    "            \"Array type is complex:\\n\", d)\n",
    "\n",
    "# Create an array with random values\n",
    "e = np.random.random((2, 2))\n",
    "print (\"A random array:\\n\", e)\n"
   ]
  },
  {
   "cell_type": "code",
   "execution_count": null,
   "metadata": {},
   "outputs": [],
   "source": [
    "# Create a sequence of integers \n",
    "# from 0 to 30 with steps of 5\n",
    "f = np.arange(0, 30, 5)\n",
    "print (\"A sequential array with steps of 5:\\n\", f)\n"
   ]
  },
  {
   "cell_type": "code",
   "execution_count": null,
   "metadata": {},
   "outputs": [],
   "source": [
    "# Create a sequence of 10 values in range 0 to 5\n",
    "g = np.linspace(0, 5, 10)\n",
    "print (\"A sequential array with 10 values between\"\n",
    "                                 \"0 and 5:\\n\", g)\n"
   ]
  },
  {
   "cell_type": "code",
   "execution_count": null,
   "metadata": {},
   "outputs": [],
   "source": [
    "# Reshaping 3X4 array to 2X2X3 array\n",
    "arr = np.array([[1, 2, 3, 4],\n",
    "                [5, 2, 4, 2],\n",
    "                [1, 2, 0, 1]])\n",
    "\n",
    "newarr = arr.reshape(2, 2, 3)\n",
    "\n",
    "print (\"Original array:\\n\", arr)\n",
    "print(\"---------------\")\n",
    "print (\"Reshaped array:\\n\", newarr)\n"
   ]
  },
  {
   "cell_type": "code",
   "execution_count": null,
   "metadata": {},
   "outputs": [],
   "source": [
    "# Flatten array\n",
    "arr = np.array([[1, 2, 3], [4, 5, 6]])\n",
    "flat_arr = arr.flatten()\n",
    "\n",
    "print (\"Original array:\\n\", arr)\n",
    "print (\"Fattened array:\\n\", flat_arr)\n"
   ]
  },
  {
   "cell_type": "markdown",
   "metadata": {},
   "source": [
    "Slicing: Just like lists in Python, NumPy arrays can be sliced. As arrays can be multidimensional, you need to specify a slice for each dimension of the array.\n",
    "Integer array indexing: In this method, lists are passed for indexing for each dimension. One-to-one mapping of corresponding elements is done to construct a new arbitrary array.\n",
    "Boolean array indexing: This method is used when we want to pick elements from the array which satisfy some condition."
   ]
  },
  {
   "cell_type": "code",
   "execution_count": null,
   "metadata": {},
   "outputs": [],
   "source": [
    "# Python program to demonstrate\n",
    "# indexing in numpy\n",
    "import numpy as np\n",
    "\n",
    "# An exemplar array\n",
    "arr = np.array([[-1, 2, 0, 4],\n",
    "                [4, -0.5, 6, 0],\n",
    "                [2.6, 0, 7, 8],\n",
    "                [3, -7, 4, 2.0]])\n",
    "\n",
    "# Slicing array\n",
    "temp = arr[:2, ::2]\n",
    "print (\"Array with first 2 rows and alternate\"\n",
    "                    \"columns(0 and 2):\\n\", temp)\n",
    "\n",
    "# Integer array indexing example\n",
    "temp = arr[[0, 1, 2, 3], [3, 2, 1, 0]]\n",
    "print (\"\\nElements at indices (0, 3), (1, 2), (2, 1),\"\n",
    "                                    \"(3, 0):\\n\", temp)\n",
    "\n",
    "# boolean array indexing example\n",
    "cond = arr > 0 # cond is a boolean array\n",
    "temp = arr[cond]\n",
    "print (\"\\nElements greater than 0:\\n\", temp)\n"
   ]
  },
  {
   "cell_type": "markdown",
   "metadata": {},
   "source": [
    "SORTING"
   ]
  },
  {
   "cell_type": "code",
   "execution_count": null,
   "metadata": {},
   "outputs": [],
   "source": [
    "# Python program to demonstrate sorting in numpy\n",
    "import numpy as np\n",
    "\n",
    "a = np.array([[1, 4, 2],\n",
    "                 [3, 4, 6],\n",
    "              [0, -1, 5]])\n",
    "\n",
    "# sorted array\n",
    "print (\"Array elements in sorted order:\\n\",\n",
    "                    np.sort(a, axis = None))\n",
    "\n",
    "# sort array row-wise\n",
    "print (\"Row-wise sorted array:\\n\",\n",
    "                np.sort(a, axis = 1))\n",
    "\n",
    "# specify sort algorithm\n",
    "print (\"Column wise sort by applying merge-sort:\\n\",\n",
    "            np.sort(a, axis = 0, kind = 'mergesort'))\n",
    "\n",
    "#-----------------------------------------------------------------------------------IMPORTANT\n",
    "# Example to show sorting of structured array\n",
    "# set alias names for dtypes\n",
    "dtypes = [('name', 'S10'), ('grad_year', int), ('cgpa', float)]\n",
    "\n",
    "# Values to be put in array\n",
    "values = [('Hrithik', 2009, 8.5), ('Ajay', 2008, 8.7), \n",
    "           ('Pankaj', 2008, 7.9), ('Aakash', 2009, 9.0)]\n",
    "           \n",
    "# Creating array\n",
    "arr = np.array(values, dtype = dtypes)\n",
    "print (\"\\nArray sorted by names:\\n\",\n",
    "            np.sort(arr, order = 'name'))\n",
    "            \n",
    "print (\"Array sorted by graduation year and then cgpa:\\n\",\n",
    "                np.sort(arr, order = ['grad_year', 'cgpa']))\n"
   ]
  },
  {
   "cell_type": "code",
   "execution_count": null,
   "metadata": {},
   "outputs": [],
   "source": [
    "\n",
    "np.ones([4, 3],\n",
    "        dtype = np.int32,\n",
    "        order = 'f')  # f for column major"
   ]
  },
  {
   "cell_type": "code",
   "execution_count": null,
   "metadata": {},
   "outputs": [],
   "source": [
    "np.zeros([4, 3], \n",
    "         dtype = np.int32,\n",
    "         order = 'C')  # C for row major"
   ]
  },
  {
   "cell_type": "code",
   "execution_count": null,
   "metadata": {},
   "outputs": [],
   "source": [
    "np.empty([4, 3],\n",
    "         dtype = np.int32,\n",
    "         order = 'f')"
   ]
  },
  {
   "cell_type": "markdown",
   "metadata": {},
   "source": [
    "dtype\n",
    "\n",
    "In NumPy, the np.dtype function is used to define a custom data type (dtype) for structured arrays. This allows you to create arrays with fields of different data types, similar to how a record in a database or a row in a spreadsheet might contain different types of data. \n",
    "\n",
    "[('name', np.str_, 16), ('grades', np.float64, (2,))]: This is a list of tuples, where each tuple defines a field in the structured array.\n",
    "\n",
    "('name', np.str_, 16): This defines a field named 'name' which will store strings (np.str_) with a maximum length of 16 characters.\n",
    "\n",
    "('grades', np.float64, (2,)): This defines a field named 'grades' which will store an array of two 64-bit floating-point numbers (np.float64).\n",
    "(2,): This is a shape tuple that indicates the 'grades' field will store a one-dimensional array with 2 elements."
   ]
  },
  {
   "cell_type": "code",
   "execution_count": 9,
   "metadata": {},
   "outputs": [
    {
     "name": "stdout",
     "output_type": "stream",
     "text": [
      "('John', [6.+0.j, 7.+0.j])\n",
      "Grades of John are:  [6.+0.j 7.+0.j]\n",
      "Names are:  ['Sarah' 'John']\n"
     ]
    }
   ],
   "source": [
    "# Python program to demonstrate\n",
    "# the use of data type object with structured array.\n",
    "import numpy as np\n",
    "\n",
    "dt = np.dtype([('name', np.str_, 16), ('grades', np.float64, (2,))])\n",
    "\n",
    "# x is a structured array with names and marks of students.\n",
    "# Data type of name of the student is np.str_ and\n",
    "# data type of marks is np.float(64)\n",
    "x = np.array([('Sarah', (8.0, 7.0)), ('John', (6.0, 7.0))], dtype=dt)\n",
    "\n",
    "print(x[1])\n",
    "print(\"Grades of John are: \",x[1]['grades'])\n",
    "print(\"Names are: \",x['name'])\n"
   ]
  },
  {
   "cell_type": "markdown",
   "metadata": {},
   "source": [
    "R : Number of rows\n",
    "C : [optional] Number of columns; By default M = N\n",
    "k : [int, optional, 0 by default]\n",
    "          Diagonal we require; k>0 means diagonal above main diagonal or vice versa.\n",
    "dtype : [optional, float(by Default)] Data type of returned array.  "
   ]
  },
  {
   "cell_type": "code",
   "execution_count": 13,
   "metadata": {},
   "outputs": [
    {
     "name": "stdout",
     "output_type": "stream",
     "text": [
      "Matrix b : \n",
      " [[1. 0.]\n",
      " [0. 1.]]\n",
      "\n",
      "Matrix a : \n",
      " [[0. 0. 0. 0. 0.]\n",
      " [1. 0. 0. 0. 0.]\n",
      " [0. 1. 0. 0. 0.]\n",
      " [0. 0. 1. 0. 0.]]\n"
     ]
    }
   ],
   "source": [
    " \n",
    "# 2x2 matrix with 1's on main diagonal\n",
    "b = np.eye(2, dtype = float)\n",
    "print(\"Matrix b : \\n\", b)\n",
    " \n",
    "# matrix with R=4 C=5 and 1 on diagonal\n",
    "# below main diagonal\n",
    "a = np.eye(4, 5, k =-1)\n",
    "print(\"\\nMatrix a : \\n\", a)"
   ]
  },
  {
   "cell_type": "markdown",
   "metadata": {},
   "source": [
    "APPENDING IN NUMPY ARRAY"
   ]
  },
  {
   "cell_type": "code",
   "execution_count": null,
   "metadata": {},
   "outputs": [],
   "source": [
    "# creating an array\n",
    "arr = np.array([1, 8, 3, 3, 5])\n",
    "print('Original Array : ', arr)\n",
    " \n",
    "# appending to the array\n",
    "arr = np.append(arr, [7])\n",
    "print('Array after appending : ', arr)"
   ]
  },
  {
   "cell_type": "code",
   "execution_count": null,
   "metadata": {},
   "outputs": [],
   "source": [
    "\n",
    "arr = np.array([1, 2, 3])\n",
    "arr_float = np.array([4.0, 5.0])\n",
    "\n",
    "combined = np.append(arr, arr_float)\n",
    "print(combined) # Output: [1. 2. 3. 4. 5.]\n"
   ]
  },
  {
   "cell_type": "code",
   "execution_count": null,
   "metadata": {},
   "outputs": [],
   "source": [
    "\n",
    "# create an array\n",
    "arr = np.arange(1, 13).reshape(2, 6)\n",
    "print('Original Array')\n",
    "print(arr, '\\n')\n",
    "\n",
    "# create another array which is\n",
    "# to be appended column-wise\n",
    "col = np.arange(5, 11).reshape(1, 6)\n",
    "print('Array to be appended column wise')\n",
    "print(col)\n",
    "arr_col = np.append(arr, col, axis=0)\n",
    "print('Array after appending the values column wise')\n",
    "print(arr_col, '\\n')\n",
    "\n",
    "# create an array which is\n",
    "# to be appended row wise\n",
    "row = np.array([1, 2]).reshape(2, 1)\n",
    "print('Array to be appended row wise')\n",
    "print(row)\n",
    "arr_row = np.append(arr, row, axis=1)\n",
    "print('Array after appending the values row wise')\n",
    "print(arr_row)\n"
   ]
  },
  {
   "cell_type": "code",
   "execution_count": null,
   "metadata": {},
   "outputs": [],
   "source": [
    "arr1 = np.array([[1, 2], [3, 4]])\n",
    "arr2 = np.array([[5, 6]])\n",
    " \n",
    "combined = np.concatenate((arr1, arr2), axis=0)\n",
    "print(combined)"
   ]
  },
  {
   "cell_type": "markdown",
   "metadata": {},
   "source": [
    "STACKING"
   ]
  },
  {
   "cell_type": "code",
   "execution_count": null,
   "metadata": {},
   "outputs": [],
   "source": [
    "# Python program explaining \n",
    "# hstack() function \n",
    "\n",
    "import numpy as geek \n",
    "\n",
    "# input array \n",
    "in_arr1 = geek.array([ 1, 2, 3] ) \n",
    "print (\"1st Input array : \\n\", in_arr1) \n",
    "\n",
    "in_arr2 = geek.array([ 4, 5, 6] ) \n",
    "print (\"2nd Input array : \\n\", in_arr2) \n",
    "\n",
    "# Stacking the two arrays horizontally \n",
    "out_arr = geek.hstack((in_arr1, in_arr2)) \n",
    "print (\"Output horizontally stacked array:\\n \", out_arr) \n"
   ]
  },
  {
   "cell_type": "code",
   "execution_count": null,
   "metadata": {},
   "outputs": [],
   "source": [
    "# Python program explaining \n",
    "# vstack() function \n",
    "\n",
    "import numpy as geek \n",
    "\n",
    "# input array \n",
    "in_arr1 = geek.array([ 1, 2, 3] ) \n",
    "print (\"1st Input array : \\n\", in_arr1) \n",
    "\n",
    "in_arr2 = geek.array([ 4, 5, 6] ) \n",
    "print (\"2nd Input array : \\n\", in_arr2) \n",
    "\n",
    "# Stacking the two arrays vertically \n",
    "out_arr = geek.vstack((in_arr1, in_arr2)) \n",
    "print (\"Output vertically stacked array:\\n \", out_arr) \n"
   ]
  },
  {
   "cell_type": "markdown",
   "metadata": {},
   "source": [
    "To compare arrays"
   ]
  },
  {
   "cell_type": "code",
   "execution_count": null,
   "metadata": {},
   "outputs": [],
   "source": [
    "import numpy as np\n",
    "\n",
    "an_array = np.array([[1, 2], [3, 4]])\n",
    "another_array = np.array([[1, 2], [3, 4]])\n",
    "\n",
    "comparison = an_array == another_array\n",
    "equal_arrays = comparison.all()\n",
    "\n",
    "print(equal_arrays)\n"
   ]
  },
  {
   "cell_type": "code",
   "execution_count": null,
   "metadata": {},
   "outputs": [],
   "source": [
    "import numpy as np\n",
    "\n",
    "\n",
    "a = np.array([101, 99, 87])\n",
    "b = np.array([897, 97, 111])\n",
    "\n",
    "print(\"Array a: \", a)\n",
    "print(\"Array b: \", b)\n",
    "\n",
    "print(\"a > b\")\n",
    "print(np.greater(a, b))\n",
    "\n",
    "print(\"a >= b\")\n",
    "print(np.greater_equal(a, b))\n",
    "\n",
    "print(\"a < b\")\n",
    "print(np.less(a, b))\n",
    "\n",
    "print(\"a <= b\")\n",
    "print(np.less_equal(a, b))\n"
   ]
  },
  {
   "cell_type": "code",
   "execution_count": null,
   "metadata": {},
   "outputs": [],
   "source": [
    "import numpy as np\n",
    "\n",
    "arr1 = np.array([[1, 2], [3, 4]])\n",
    "arr2 = np.array([[1, 2], [3, 4]])\n",
    "\n",
    "\n",
    "# Comparing the arrays\n",
    "if np.array_equal(arr1, arr2):\n",
    "\tprint(\"Equal\")\n",
    "else:\n",
    "\tprint(\"Not Equal\")\n"
   ]
  },
  {
   "cell_type": "markdown",
   "metadata": {},
   "source": [
    "Union of arrays: result is 1D"
   ]
  },
  {
   "cell_type": "code",
   "execution_count": null,
   "metadata": {},
   "outputs": [],
   "source": [
    "# import libraries \n",
    "import numpy as np \n",
    "\n",
    "\n",
    "# 2-d array \n",
    "arr1 = np.array([[1, 2, 3], [4, 5, 6]]) \n",
    "print(\"array1 \") \n",
    "print(arr1) \n",
    "\n",
    "arr2 = np.array([0, 5, 10]) \n",
    "print(\"array2 \", arr2) \n",
    "\n",
    "# print union of 2-d array and 1-d array \n",
    "print(\"Union of two arrays\", np.union1d(arr1, arr2)) \n"
   ]
  },
  {
   "cell_type": "markdown",
   "metadata": {},
   "source": [
    "Syntax : np.unique(Array)\n",
    "Return : Return the unique of an array."
   ]
  },
  {
   "cell_type": "code",
   "execution_count": null,
   "metadata": {},
   "outputs": [],
   "source": [
    "# import numpy \n",
    "import numpy as np \n",
    "\n",
    "a = [1, 2, 2, 4, 3, 6, 4, 8] \n",
    "\n",
    "# using np.unique() method \n",
    "gfg = np.unique(a) \n",
    "\n",
    "print(gfg) \n"
   ]
  },
  {
   "cell_type": "code",
   "execution_count": null,
   "metadata": {},
   "outputs": [],
   "source": [
    "import numpy as geek \n",
    "\n",
    "gfg = geek.array((0, 0, 0, 0, 1, 5, 7, 0, 6, 2, 9, 0, 10, 0, 0)) \n",
    "\n",
    "# without trim parameter \n",
    "# returns an array without leading and trailing zeros \n",
    "\n",
    "res = geek.trim_zeros(gfg) \n",
    "print(res) \n",
    "res = geek.trim_zeros(gfg, 'f')  # f or b for forward or backward\n",
    "print(res)"
   ]
  },
  {
   "cell_type": "markdown",
   "metadata": {},
   "source": [
    "RANDOM SAMPLING"
   ]
  },
  {
   "cell_type": "code",
   "execution_count": 17,
   "metadata": {},
   "outputs": [
    {
     "name": "stdout",
     "output_type": "stream",
     "text": [
      "Output random float value :  [0.45803914 0.51092803 0.31187432 0.49428021]\n"
     ]
    }
   ],
   "source": [
    "# Python program explaining \n",
    "# numpy.random.ranf() function \n",
    "\n",
    "# importing numpy \n",
    "import numpy as geek \n",
    "\n",
    "\n",
    "# output random float value \n",
    "out_val = geek.random.rand(4)  # or ranf we can give size or by default it is none and returns one value only\n",
    "print (\"Output random float value : \", out_val) \n"
   ]
  },
  {
   "cell_type": "code",
   "execution_count": 20,
   "metadata": {},
   "outputs": [
    {
     "name": "stdout",
     "output_type": "stream",
     "text": [
      "[0.81922387 0.11659492 0.48199403]\n",
      "Output random float value :  0.8689136222688045\n"
     ]
    }
   ],
   "source": [
    "val=np.random.random(3) # float value we can pass size and shape here too\n",
    "print(val)\n",
    "# output random value \n",
    "out_val = np.random.random_sample() \n",
    "print (\"Output random float value : \", out_val)  "
   ]
  },
  {
   "cell_type": "code",
   "execution_count": 22,
   "metadata": {},
   "outputs": [
    {
     "name": "stdout",
     "output_type": "stream",
     "text": [
      "Output 3D Array filled with random integers :  [[[2 6 3 9]\n",
      "  [4 9 4 4]\n",
      "  [6 2 5 7]]\n",
      "\n",
      " [[3 5 6 8]\n",
      "  [7 9 8 8]\n",
      "  [2 4 2 7]]]\n",
      "8\n"
     ]
    }
   ],
   "source": [
    "# output array \n",
    "out_arr = geek.random.randint(2, 10, (2, 3, 4))  # low, high, shape\n",
    "print (\"Output 3D Array filled with random integers : \", out_arr)  \n",
    "\n",
    "v=np.random.randint(9) # takes one necessary output which is high\n",
    "print(v)"
   ]
  },
  {
   "cell_type": "markdown",
   "metadata": {},
   "source": [
    "Syntax : numpy.random.choice(a, size=None, replace=True, p=None)\n",
    "\n",
    "1) a – 1-D array of numpy having random samples.\n",
    "\n",
    "2) size – Output shape of random samples of numpy array.\n",
    "\n",
    "3) replace – Whether the sample is with or without replacement.\n",
    "\n",
    "4) p – The probability attach with every samples in a. \n",
    "\n",
    "Output : Return the numpy array of random samples."
   ]
  },
  {
   "cell_type": "code",
   "execution_count": 23,
   "metadata": {},
   "outputs": [
    {
     "name": "stdout",
     "output_type": "stream",
     "text": [
      "[45 12]\n"
     ]
    }
   ],
   "source": [
    "val=np.random.choice([12,45,67,89],2)\n",
    "print(val)"
   ]
  },
  {
   "cell_type": "markdown",
   "metadata": {},
   "source": [
    "SEARCHING IN ARRAY\n",
    "Syntax: numpy.where(condition[, x, y]) \n",
    "\n",
    "Parameters:\n",
    "\n",
    "condition : When True, yield x, otherwise yield y.\n",
    "x, y : Values from which to choose. x, y and condition need to be broadcastable to some shape."
   ]
  },
  {
   "cell_type": "code",
   "execution_count": 24,
   "metadata": {},
   "outputs": [
    {
     "name": "stdout",
     "output_type": "stream",
     "text": [
      "arr = [10 32 30 50 20 82 91 45]\n",
      "i = (array([2]),)\n"
     ]
    }
   ],
   "source": [
    "arr = np.array([10, 32, 30, 50, 20, 82, 91, 45]) \n",
    "  \n",
    "#  printing arr \n",
    "print(\"arr = {}\".format(arr)) \n",
    "  \n",
    "#  looking for value 30 in arr and storing its index in i \n",
    "i = np.where(arr == 30) # return index\n",
    "print(\"i = {}\".format(i))"
   ]
  },
  {
   "cell_type": "code",
   "execution_count": 25,
   "metadata": {},
   "outputs": [
    {
     "name": "stdout",
     "output_type": "stream",
     "text": [
      "Minimum and maximum weight of the students: \n",
      "45.0 73.25\n",
      "Range of the weight of the students: \n",
      "28.25\n",
      "Weight below which 70 % student fall: \n",
      "55.317\n",
      "Mean weight of the students: \n",
      "54.3225\n",
      "Median weight of the students: \n",
      "51.6\n",
      "Standard deviation of weight of the students: \n",
      "8.052773978574091\n",
      "Variance of weight of the students: \n",
      "64.84716875\n",
      "Average weight of the students: \n",
      "54.3225\n"
     ]
    }
   ],
   "source": [
    "# Python code demonstrate statistical function \n",
    "import numpy as np \n",
    "\n",
    "# construct a weight array \n",
    "weight = np.array([50.7, 52.5, 50, 58, 55.63, 73.25, 49.5, 45]) \n",
    "\n",
    "# minimum and maximum \n",
    "print('Minimum and maximum weight of the students: ') \n",
    "print(np.amin(weight), np.amax(weight)) \n",
    "\n",
    "# range of weight i.e. max weight-min weight \n",
    "print('Range of the weight of the students: ') \n",
    "print(np.ptp(weight)) \n",
    "\n",
    "# percentile \n",
    "print('Weight below which 70 % student fall: ') \n",
    "print(np.percentile(weight, 70)) \n",
    "\n",
    "# mean \n",
    "print('Mean weight of the students: ') \n",
    "print(np.mean(weight)) \n",
    "\n",
    "# median \n",
    "print('Median weight of the students: ') \n",
    "print(np.median(weight)) \n",
    "\n",
    "# standard deviation \n",
    "print('Standard deviation of weight of the students: ') \n",
    "print(np.std(weight)) \n",
    "\n",
    "# variance \n",
    "print('Variance of weight of the students: ') \n",
    "print(np.var(weight)) \n",
    "\n",
    "# average \n",
    "print('Average weight of the students: ') \n",
    "print(np.average(weight)) \n"
   ]
  }
 ],
 "metadata": {
  "kernelspec": {
   "display_name": "Python 3",
   "language": "python",
   "name": "python3"
  },
  "language_info": {
   "codemirror_mode": {
    "name": "ipython",
    "version": 3
   },
   "file_extension": ".py",
   "mimetype": "text/x-python",
   "name": "python",
   "nbconvert_exporter": "python",
   "pygments_lexer": "ipython3",
   "version": "3.12.4"
  }
 },
 "nbformat": 4,
 "nbformat_minor": 2
}
