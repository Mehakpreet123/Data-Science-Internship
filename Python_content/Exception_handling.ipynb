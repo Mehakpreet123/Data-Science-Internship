{
 "cells": [
  {
   "cell_type": "markdown",
   "metadata": {},
   "source": [
    "Errors are problems in a program due to which the program will stop the execution. On the other hand, exceptions are raised when some internal events occur which change the normal flow of the program. \n",
    "TYPES OF EXCEPTIONS\n",
    "SyntaxError: This exception is raised when the interpreter encounters a syntax error in the code, such as a misspelled keyword, a missing colon, or an unbalanced parenthesis.\n",
    "TypeError: This exception is raised when an operation or function is applied to an object of the wrong type, such as adding a string to an integer.\n",
    "NameError: This exception is raised when a variable or function name is not found in the current scope.\n",
    "IndexError: This exception is raised when an index is out of range for a list, tuple, or other sequence types.\n",
    "KeyError: This exception is raised when a key is not found in a dictionary.\n",
    "ValueError: This exception is raised when a function or method is called with an invalid argument or input, such as trying to convert a string to an integer when the string does not represent a valid integer.\n",
    "AttributeError: This exception is raised when an attribute or method is not found on an object, such as trying to access a non-existent attribute of a class instance.\n",
    "IOError: This exception is raised when an I/O operation, such as reading or writing a file, fails due to an input/output error.\n",
    "ZeroDivisionError: This exception is raised when an attempt is made to divide a number by zero.\n",
    "ImportError: This exception is raised when an import statement fails to find or load a module."
   ]
  },
  {
   "cell_type": "markdown",
   "metadata": {
    "vscode": {
     "languageId": "plaintext"
    }
   },
   "source": [
    "Try and except statements are used to catch and handle exceptions in Python. Statements that can raise exceptions are kept inside the try clause and the statements that handle the exception are written inside except clause."
   ]
  },
  {
   "cell_type": "code",
   "execution_count": 2,
   "metadata": {},
   "outputs": [
    {
     "name": "stdout",
     "output_type": "stream",
     "text": [
      "Second element = 2\n",
      "An error occurred\n"
     ]
    }
   ],
   "source": [
    "a = [1, 2, 3]\n",
    "try: \n",
    "\tprint (\"Second element = %d\" %(a[1]))\n",
    "\n",
    "\tprint (\"Fourth element = %d\" %(a[3]))\n",
    "\n",
    "except:\n",
    "\tprint (\"An error occurred\")\n"
   ]
  },
  {
   "cell_type": "code",
   "execution_count": 1,
   "metadata": {},
   "outputs": [
    {
     "name": "stdout",
     "output_type": "stream",
     "text": [
      "ZeroDivisionError Occurred and Handled\n"
     ]
    }
   ],
   "source": [
    "def fun(a):\n",
    "\tif a < 4:\n",
    "\n",
    "\t\tb = a/(a-3)\n",
    "\tprint(\"Value of b = \", b)\n",
    "\t\n",
    "try:\n",
    "\tfun(3) #rasie zero division error\n",
    "\tfun(5) # raises nameError\n",
    "except ZeroDivisionError:\n",
    "\tprint(\"ZeroDivisionError Occurred and Handled\")\n",
    "except NameError:\n",
    "\tprint(\"NameError Occurred and Handled\")\n"
   ]
  },
  {
   "cell_type": "code",
   "execution_count": null,
   "metadata": {},
   "outputs": [],
   "source": [
    "try:\n",
    "    x = int(input(\"Enter a number: \"))\n",
    "    result = 10 / x\n",
    "    print(\"Result:\", result)\n",
    "except ZeroDivisionError:\n",
    "    # This block will be executed if a ZeroDivisionError occurs\n",
    "    print(\"Error: Division by zero is not allowed.\")\n",
    "except ValueError:\n",
    "    # This block will be executed if a ValueError occurs (e.g., when trying to convert a non-integer input to an integer)\n",
    "    print(\"Error: Please enter a valid integer.\")\n",
    "except Exception as e:\n",
    "    # This block will catch any other type of exception\n",
    "    print(\"An error occurred:\", e)\n"
   ]
  },
  {
   "cell_type": "markdown",
   "metadata": {},
   "source": [
    "Try with Else Clause\n",
    "In Python, we can also use the else clause on the try-except block which must be present after all the except clauses. The code enters the else block only if the try clause does not raise an exception."
   ]
  },
  {
   "cell_type": "code",
   "execution_count": 4,
   "metadata": {},
   "outputs": [
    {
     "name": "stdout",
     "output_type": "stream",
     "text": [
      "a/b result in 0\n"
     ]
    }
   ],
   "source": [
    "def AbyB(a , b):\n",
    "\ttry:\n",
    "\t\tc = ((a+b) / (a-b))\n",
    "\texcept ZeroDivisionError:\n",
    "\t\tprint (\"a/b result in 0\")\n",
    "\telse:\n",
    "\t\tprint (c)\n",
    "#AbyB(2.0, 3.0)\n",
    "AbyB(3.0, 3.0)\n"
   ]
  },
  {
   "cell_type": "markdown",
   "metadata": {},
   "source": [
    "Finally Keyword in Python\n",
    "Python provides a keyword finally, which is always executed after the try and except blocks. The final block always executes after the normal termination of the try block or after the try block terminates due to some exception.\n",
    "\n"
   ]
  },
  {
   "cell_type": "code",
   "execution_count": 5,
   "metadata": {},
   "outputs": [
    {
     "name": "stdout",
     "output_type": "stream",
     "text": [
      "Can't divide by zero\n",
      "This is always executed\n"
     ]
    }
   ],
   "source": [
    "try:\n",
    "\tk = 5//0\n",
    "\tprint(k)\n",
    "\n",
    "except ZeroDivisionError:\n",
    "\tprint(\"Can't divide by zero\")\n",
    "\n",
    "finally:\n",
    "\tprint('This is always executed')\n"
   ]
  },
  {
   "cell_type": "markdown",
   "metadata": {},
   "source": [
    "Raise keyword to raise exception"
   ]
  },
  {
   "cell_type": "code",
   "execution_count": null,
   "metadata": {},
   "outputs": [],
   "source": [
    "try: \n",
    "\tamount = 1999\n",
    "\tif amount < 2999: \n",
    "\t\traise ValueError(\"please add money in your account\") \n",
    "\telse: \n",
    "\t\tprint(\"You are eligible to purchase DSA Self Paced course\") \n",
    "\t\t\n",
    "except ValueError as e: \n",
    "\t\tprint(e) \n"
   ]
  },
  {
   "cell_type": "code",
   "execution_count": 6,
   "metadata": {},
   "outputs": [
    {
     "name": "stdout",
     "output_type": "stream",
     "text": [
      "Error: Division by zero is not allowed\n"
     ]
    }
   ],
   "source": [
    "def divide(x, y):\n",
    "    if y == 0:\n",
    "        raise ZeroDivisionError(\"Division by zero is not allowed\")\n",
    "    return x / y\n",
    "\n",
    "try:\n",
    "    result = divide(10, 0)\n",
    "    print(\"Result:\", result)\n",
    "except ZeroDivisionError as e:\n",
    "    print(\"Error:\", e)\n"
   ]
  },
  {
   "cell_type": "markdown",
   "metadata": {},
   "source": [
    "CUSTOM ECXEPTIONS\n"
   ]
  },
  {
   "cell_type": "code",
   "execution_count": 7,
   "metadata": {},
   "outputs": [
    {
     "name": "stdout",
     "output_type": "stream",
     "text": [
      "Custom error caught: Input value cannot be negative\n"
     ]
    }
   ],
   "source": [
    "class CustomError(Exception):\n",
    "    \"\"\"A custom exception class.\"\"\"\n",
    "    def __init__(self, message):\n",
    "        super().__init__(message)\n",
    "\n",
    "def function_with_custom_error(x):\n",
    "    if x < 0:\n",
    "        raise CustomError(\"Input value cannot be negative\")\n",
    "\n",
    "try:\n",
    "    function_with_custom_error(-5)\n",
    "except CustomError as e:\n",
    "    print(\"Custom error caught:\", e)\n"
   ]
  },
  {
   "cell_type": "code",
   "execution_count": 8,
   "metadata": {},
   "outputs": [
    {
     "name": "stdout",
     "output_type": "stream",
     "text": [
      "Custom error caught: Default custom error message\n"
     ]
    }
   ],
   "source": [
    "class CustomError(Exception):\n",
    "    \"\"\"A custom exception class.\"\"\"\n",
    "    def __init__(self, message=\"Default custom error message\"):\n",
    "        self.message = message\n",
    "        super().__init__(self.message)\n",
    "\n",
    "def function_with_custom_error(x):\n",
    "    if x < 0:\n",
    "        raise CustomError()\n",
    "\n",
    "try:\n",
    "    function_with_custom_error(-5)\n",
    "except CustomError as e:\n",
    "    print(\"Custom error caught:\", e.message)\n"
   ]
  }
 ],
 "metadata": {
  "kernelspec": {
   "display_name": "Python 3",
   "language": "python",
   "name": "python3"
  },
  "language_info": {
   "codemirror_mode": {
    "name": "ipython",
    "version": 3
   },
   "file_extension": ".py",
   "mimetype": "text/x-python",
   "name": "python",
   "nbconvert_exporter": "python",
   "pygments_lexer": "ipython3",
   "version": "3.12.2"
  }
 },
 "nbformat": 4,
 "nbformat_minor": 2
}
