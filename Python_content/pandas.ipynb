{
 "cells": [
  {
   "cell_type": "markdown",
   "metadata": {},
   "source": [
    "pandas data structures--series and dataframes\n",
    "Pandas is an open-source library in Python that is made mainly for working with relational or labeled data both easily and intuitively. It provides various data structures and operations for manipulating numerical data and time series. This library is built on top of the NumPy library of Python. Pandas is fast and it has high performance & productivity for users"
   ]
  },
  {
   "cell_type": "code",
   "execution_count": null,
   "metadata": {},
   "outputs": [],
   "source": [
    "import pandas as pd\n",
    "import pandas as pd\n",
    "\n",
    "# simple array\n",
    "data = [1, 2, 3, 4]\n",
    "\n",
    "ser = pd.Series(data)\n",
    "print(ser)"
   ]
  },
  {
   "cell_type": "code",
   "execution_count": null,
   "metadata": {},
   "outputs": [],
   "source": [
    "# import pandas as pd\n",
    "import pandas as pd\n",
    "\n",
    "# import numpy as np\n",
    "import numpy as np\n",
    "\n",
    "# simple array\n",
    "data = np.array(['g', 'e', 'e', 'k', 's'])\n",
    "\n",
    "# providing an index\n",
    "ser = pd.Series(data, index=[10, 11, 12, 13, 14])\n",
    "print(ser)"
   ]
  },
  {
   "cell_type": "code",
   "execution_count": null,
   "metadata": {},
   "outputs": [],
   "source": [
    "# Calling DataFrame constructor \n",
    "df = pd.DataFrame() \n",
    "print(df) \n",
    "\n",
    "# list of strings \n",
    "lst = ['Geeks', 'For', 'Geeks', 'is', 'portal', 'for', 'Geeks'] \n",
    "\t\n",
    "# Calling DataFrame constructor on list \n",
    "df = pd.DataFrame(lst) \n",
    "print(df)"
   ]
  },
  {
   "cell_type": "code",
   "execution_count": null,
   "metadata": {},
   "outputs": [],
   "source": [
    "#creating series from list\n",
    "l=[1,2,3,4]\n",
    "ser=pd.Series(l,index=[4,5,6,7])"
   ]
  },
  {
   "cell_type": "code",
   "execution_count": null,
   "metadata": {},
   "outputs": [],
   "source": [
    "#creating series from dictionary\n",
    "import pandas as pd\n",
    "\n",
    "# a simple dictionary\n",
    "dict = {'Geeks': 10,\n",
    "\t\t'for': 20,\n",
    "\t\t'geeks': 30}\n",
    "\n",
    "# create series from dictionary\n",
    "ser = pd.Series(dict)\n",
    "# in dictionary we cannot give labels explicitly it can be given with the keys of the dictionary\n",
    "print(ser)"
   ]
  },
  {
   "cell_type": "markdown",
   "metadata": {},
   "source": [
    "creating the dataframe in pandas\n",
    "In the real world, a Pandas DataFrame will be created by loading the datasets from existing storage, storage can be SQL Database, CSV file, and Excel file. Pandas DataFrame can be created from the lists, dictionary, and from a list of dictionary etc."
   ]
  },
  {
   "cell_type": "code",
   "execution_count": null,
   "metadata": {},
   "outputs": [],
   "source": [
    "\n",
    "\n",
    "# Calling DataFrame constructor\n",
    "df = pd.DataFrame()\n",
    "\n",
    "print(df)"
   ]
  },
  {
   "cell_type": "code",
   "execution_count": null,
   "metadata": {},
   "outputs": [],
   "source": [
    "# list of strings\n",
    "lst = ['Geeks', 'For', 'Geeks', 'is', 'portal', 'for', 'Geeks']\n",
    "\n",
    "# list of int\n",
    "lst2 = [11, 22, 33, 44, 55, 66, 77]\n",
    "\n",
    "# Calling DataFrame constructor after zipping\n",
    "# both lists, with columns specified\n",
    "df = pd.DataFrame(list(zip(lst, lst2)),\n",
    "\t\t\tcolumns =['Name', 'val'])\n",
    "df"
   ]
  },
  {
   "cell_type": "code",
   "execution_count": null,
   "metadata": {},
   "outputs": [],
   "source": [
    "# List1 \n",
    "lst = [['tom', 25], ['krish', 30],\n",
    "\t['nick', 26], ['juli', 22]]\n",
    "\n",
    "df = pd.DataFrame(lst, columns =['Name', 'Age'])\n",
    "df"
   ]
  },
  {
   "cell_type": "code",
   "execution_count": null,
   "metadata": {},
   "outputs": [],
   "source": [
    "#viewing top rows\n",
    "df=pd.read_csv(\"titanic_train.csv\")\n",
    "df.head()# by default will return first 5 rows of dataset"
   ]
  },
  {
   "cell_type": "code",
   "execution_count": null,
   "metadata": {},
   "outputs": [],
   "source": [
    "series=df[\"Name\"]\n",
    "series.head(9)"
   ]
  },
  {
   "cell_type": "code",
   "execution_count": null,
   "metadata": {},
   "outputs": [],
   "source": [
    "#viewing the bottom rows\n",
    "tail=df.tail()\n",
    "tail"
   ]
  },
  {
   "cell_type": "code",
   "execution_count": null,
   "metadata": {},
   "outputs": [],
   "source": [
    "percentile=[0.20,0.40,0.60,0.80]\n",
    "# removing null values to avoid errors\n",
    "df.dropna(inplace=True)# will be changed in the original dataset\n",
    "df.describe(percentiles=percentile)"
   ]
  },
  {
   "cell_type": "code",
   "execution_count": null,
   "metadata": {},
   "outputs": [],
   "source": [
    "# initialize a dataframe\n",
    "data = pd.DataFrame(\n",
    "\t[[1, 2, 3],\n",
    "\t[4, 5, 6],\n",
    "\t[7, 8, 9],\n",
    "\t[10, 11, 12]],\n",
    "\tcolumns=['a', 'b', 'c'])\n",
    "display(data)\n",
    "\n",
    "# convert dataframe to numpy array\n",
    "arr = data.to_numpy()\n",
    "\n",
    "print('\\nNumpy Array\\n----------\\n', arr)\n",
    "print(type(arr))"
   ]
  },
  {
   "cell_type": "code",
   "execution_count": null,
   "metadata": {},
   "outputs": [],
   "source": [
    "\n",
    "# initialize a dataframe\n",
    "data = pd.DataFrame(\n",
    "\t[[1, 2, 3],\n",
    "\t[4, 5, 6],\n",
    "\t[7, 8, 9],\n",
    "\t[10, 11, 12]],\n",
    "\tcolumns=['a', 'b', 'c'])\n",
    "\n",
    "# convert dataframe to numpy array\n",
    "arr = df[['a', 'c']].to_numpy()\n",
    "\n",
    "print('\\nNumpy Array\\n----------\\n', arr)\n",
    "print(type(arr))\n"
   ]
  },
  {
   "cell_type": "code",
   "execution_count": null,
   "metadata": {},
   "outputs": [],
   "source": [
    "df.info()"
   ]
  },
  {
   "cell_type": "code",
   "execution_count": null,
   "metadata": {},
   "outputs": [],
   "source": [
    "# Define a dictionary containing employee data\n",
    "data = {'Name':['Jai', 'Princi', 'Gaurav', 'Anuj'],\n",
    "\t\t'Age':[27, 24, 22, 32],\n",
    "\t\t'Address':['Delhi', 'Kanpur', 'Allahabad', 'Kannauj'],\n",
    "\t\t'Qualification':['Msc', 'MA', 'MCA', 'Phd']}\n",
    "\n",
    "# Convert the dictionary into DataFrame \n",
    "df = pd.DataFrame(data)\n",
    "\n",
    "# select two columns\n",
    "display(df[['Name', 'Qualification']])"
   ]
  },
  {
   "cell_type": "code",
   "execution_count": null,
   "metadata": {},
   "outputs": [],
   "source": [
    "#Adding a column\n",
    "# Define a dictionary containing Students data\n",
    "data = {'Name': ['Jai', 'Princi', 'Gaurav', 'Anuj'],\n",
    "        'Height': [5.1, 6.2, 5.1, 5.2],\n",
    "        'Qualification': ['Msc', 'MA', 'Msc', 'Msc']}\n",
    "\n",
    "# Convert the dictionary into DataFrame\n",
    "df = pd.DataFrame(data)\n",
    "\n",
    "# Declare a list that is to be converted into a column\n",
    "address = ['Delhi', 'Bangalore', 'Chennai', 'Patna']\n",
    "df[\"Address\"]=address\n",
    "df"
   ]
  },
  {
   "cell_type": "code",
   "execution_count": null,
   "metadata": {},
   "outputs": [],
   "source": [
    "#selecting the row\n",
    "df.iloc[5] # df.iloc[] is for integer location only and df[loc] is for string location and for integer\n",
    "\n",
    "d=data.loc[1:4]\n",
    "display(d)# will print 1 to 4 index\n",
    "data.iloc[1:4]# will print 1 to 3 index"
   ]
  },
  {
   "cell_type": "code",
   "execution_count": null,
   "metadata": {},
   "outputs": [],
   "source": [
    "df.iloc[[1,0,4],[1,2]]"
   ]
  },
  {
   "cell_type": "markdown",
   "metadata": {},
   "source": [
    "#Syntax: DataFrameName.dropna(axis=0, how=’any’, thresh=None, subset=None, inplace=False)\n",
    "#axis: axis takes int or string value for rows/columns. Input can be 0 or 1 for Integer and ‘index’ or ‘columns’ for String. \n",
    "#how: how takes string value of two kinds only (‘any’ or ‘all’). ‘any’ drops the row/column if \n",
    "#ANY value is Null and ‘all’ drops only if\n",
    "#ALL values are null."
   ]
  },
  {
   "cell_type": "code",
   "execution_count": null,
   "metadata": {},
   "outputs": [],
   "source": [
    "#removig the row with null value\n",
    "print(len(df))\n",
    "newdata=df[\"Cabin\"].dropna(axis=0,how='any')#axis=0 checks row-wise if value is null or not then removes that row\n",
    "print(len(newdata))# to get the number of rows"
   ]
  },
  {
   "cell_type": "code",
   "execution_count": null,
   "metadata": {},
   "outputs": [],
   "source": [
    "#removing the column with all null values\n",
    "df[\"NULL_Col\"]=None\n",
    "new=df.dropna(axis=1,how=\"all\") # it removes the column where all values are null\n",
    "print(df.columns)# before removing the null column\n",
    "print(new.columns) # after removing the null column\n",
    "print(len(df.dtypes))# to find number of columns\n",
    "print(len(new.dtypes))"
   ]
  },
  {
   "cell_type": "markdown",
   "metadata": {},
   "source": [
    "df.isnull() and df.notnull()"
   ]
  },
  {
   "cell_type": "code",
   "execution_count": null,
   "metadata": {},
   "outputs": [],
   "source": [
    "n_values=df[\"Cabin\"].isnull()\n",
    "df[n_values]# gives the dataframe with null values of cabin only\n",
    "n_values.sum() #gives the count of the null values in column cabin\n"
   ]
  }
 ],
 "metadata": {
  "kernelspec": {
   "display_name": "Python 3",
   "language": "python",
   "name": "python3"
  },
  "language_info": {
   "name": "python",
   "version": "3.12.4"
  }
 },
 "nbformat": 4,
 "nbformat_minor": 2
}
