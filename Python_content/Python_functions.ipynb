{
 "cells": [
  {
   "cell_type": "markdown",
   "metadata": {},
   "source": [
    "Python Functions is a block of statements that return the specific task. The idea is to put some commonly or repeatedly done tasks together and make a function so that instead of writing the same code again and again for different inputs, we can do the function calls to reuse code contained in it over and over again.\n",
    "\n",
    "Some Benefits of Using Functions\n",
    "\n",
    "Increase Code Readability \n",
    "Increase Code Reusability"
   ]
  },
  {
   "cell_type": "code",
   "execution_count": null,
   "metadata": {},
   "outputs": [],
   "source": [
    "# whether x is even or odd\n",
    "def evenOdd(x):  # x here is parameter\n",
    "    if (x % 2 == 0):\n",
    "        print(\"even\")\n",
    "    else:\n",
    "        print(\"odd\")\n",
    "\n",
    "\n",
    "# Driver code to call the function\n",
    "evenOdd(2)\n",
    "evenOdd(3)  # 3 and 2 passed here are arguments"
   ]
  },
  {
   "cell_type": "markdown",
   "metadata": {},
   "source": [
    "TYPES OF ARGUMENTS IN FUNCTIONS:\n",
    "Default argument\n",
    "Keyword arguments (named arguments)\n",
    "Positional arguments\n",
    "Arbitrary arguments (variable-length arguments *args and **kwargs)"
   ]
  },
  {
   "cell_type": "code",
   "execution_count": 5,
   "metadata": {},
   "outputs": [
    {
     "name": "stdout",
     "output_type": "stream",
     "text": [
      "Hello World!\n",
      "Hello John!\n",
      "-------------------------------------------------\n",
      "Hello Practice\n",
      "Hello Practice\n",
      "-------------------------------------------------\n",
      "12\n",
      "-------------------------------------------------\n",
      "3\n",
      "34\n",
      "45\n",
      "67\n",
      "-------------------------------------------------\n",
      "a 12\n",
      "b 34\n",
      "c hello\n"
     ]
    }
   ],
   "source": [
    "# Default arguments-- if there is no any argument passed then the default will be taken\n",
    "def greet(name=\"World\"):  \n",
    "    print(\"Hello\",name+\"!\")\n",
    "greet()\n",
    "greet(\"John\")\n",
    "print(\"-------------------------------------------------\")\n",
    "# Keyword arguments -- where we can change the order of arguments passed\n",
    "def student(firstname, lastname):\n",
    "    print(firstname, lastname)\n",
    "student(firstname='Hello', lastname='Practice')\n",
    "student(lastname='Practice', firstname='Hello')\n",
    "print(\"-------------------------------------------------\")\n",
    "#Positional arguments --- arguments arre taken in order\n",
    "def area(length,breadth):\n",
    "    print(length*breadth)\n",
    "area(3,4)\n",
    "print(\"-------------------------------------------------\")\n",
    "#Arbitrary arguments - where number of arguments passed are not known\n",
    "def numbers(*arg):  #Non keyword\n",
    "    for i in arg:\n",
    "        print(i)\n",
    "numbers(3,34,45,67)\n",
    "print(\"-------------------------------------------------\")\n",
    "\n",
    "# keyword arguments\n",
    "def func(**args):\n",
    "    for k,v in args.items():\n",
    "        print(k,v)\n",
    "func(a=12,b=34,c=\"hello\")\n"
   ]
  },
  {
   "cell_type": "markdown",
   "metadata": {},
   "source": [
    "KEYWORD ONLY ARGUMENTS-- allows function parameters to be defined as keyword-only, meaning they can only be passed to the function as keyword arguments and cannot be passed as positional arguments.\n",
    "put an astreisk (*) before the keyword-only arguments list."
   ]
  },
  {
   "cell_type": "code",
   "execution_count": 6,
   "metadata": {},
   "outputs": [
    {
     "name": "stdout",
     "output_type": "stream",
     "text": [
      "50.0\n"
     ]
    }
   ],
   "source": [
    "def intr(amt,*, rate):  # after * all the arguments passed must be keyword arguments\n",
    "   val = amt*rate/100\n",
    "   return val\n",
    "print(intr(500,rate=10))"
   ]
  },
  {
   "cell_type": "markdown",
   "metadata": {},
   "source": [
    "Higher order functions (passing function as an argument)\n",
    "A function can take multiple arguments, these arguments can be objects, variables(of same or different data types) and functions. Python functions are first class objects\n",
    "Because functions are objects we can pass them as arguments to other functions. Functions that can accept other functions as arguments are also called higher-order functions."
   ]
  },
  {
   "cell_type": "code",
   "execution_count": null,
   "metadata": {},
   "outputs": [],
   "source": [
    "# functions can be treated as objects  \n",
    "def shout(text):  \n",
    "    return text.upper()  \n",
    "    \n",
    "print(shout('Hello'))  \n",
    "    \n",
    "yell = shout   # this is assignment and not calling of a function\n",
    "    \n",
    "print(yell('Hello')) "
   ]
  },
  {
   "cell_type": "code",
   "execution_count": 8,
   "metadata": {},
   "outputs": [
    {
     "name": "stdout",
     "output_type": "stream",
     "text": [
      "GOOD MORNING!\n",
      "hii\n"
     ]
    }
   ],
   "source": [
    "def wish(text):  \n",
    "    return text.upper()  \n",
    "  \n",
    "def greet(text):  \n",
    "    return text.lower() \n",
    "  \n",
    "def higher(text,func):  \n",
    "    # storing the function in a variable  \n",
    "    return func(text)\n",
    "  \n",
    "print(higher(\"Good morning!\",wish))  # taking function as argument\n",
    "print(higher(\"Hii\",greet))"
   ]
  },
  {
   "cell_type": "code",
   "execution_count": null,
   "metadata": {},
   "outputs": [],
   "source": [
    "# Functions can return another function \n",
    " \n",
    "def create_adder(x): \n",
    "    def adder(y): \n",
    "        return x+y \n",
    " \n",
    "    return adder \n",
    " \n",
    "add_15 = create_adder(15)  # adder is returned here with is stored in add_15\n",
    " \n",
    "print(add_15(10)) "
   ]
  },
  {
   "cell_type": "code",
   "execution_count": 9,
   "metadata": {},
   "outputs": [
    {
     "name": "stdout",
     "output_type": "stream",
     "text": [
      "30\n"
     ]
    }
   ],
   "source": [
    "#python lambda -- anonymous function\n",
    "x = lambda a, b : a * b\n",
    "print(x(5, 6))\n",
    "\n",
    "def myfunc(n):\n",
    "  return lambda a : a * n\n",
    "\n",
    "mydoubler = myfunc(2) #lambda func is passed in mydoubler\n",
    "\n",
    "print(mydoubler(11))"
   ]
  },
  {
   "cell_type": "markdown",
   "metadata": {},
   "source": [
    "The sort() method and the sorted() function let you sort iterable data like lists and tuples in ascending or descending order.\n",
    "The sort() method takes two parameters – key and reverse. You can use a function as the key, but the reverse parameter can only take a Boolean.\n",
    "\n",
    "The sorted() function, on the other hand, also works like sort(). It takes the optional key and reverse parameters too, but it takes a compulsory parameter of the iterable you want to sort – making it ideal for sorting other iterables apart from a list."
   ]
  },
  {
   "cell_type": "code",
   "execution_count": 10,
   "metadata": {},
   "outputs": [
    {
     "name": "stdout",
     "output_type": "stream",
     "text": [
      "Original numbers: [34, 11, 35, 89, 37]\n",
      "Sorted numbers: [11, 34, 35, 37, 89]\n",
      "Original list ['Zen Jack', 'Luigi Austin', 'Ben Benson', 'John Ann']\n",
      "Sorted name list ['John Ann', 'Luigi Austin', 'Ben Benson', 'Zen Jack']\n"
     ]
    }
   ],
   "source": [
    "num_list = [34, 11, 35, 89, 37]\n",
    "print(\"Original numbers:\", num_list) \n",
    "\n",
    "\n",
    "num_list.sort()\n",
    "print(\"Sorted numbers:\", num_list)\n",
    "\n",
    " #----------------------------------------------------------------------------------------\n",
    "name_list = ['Zen Jack', 'Luigi Austin', 'Ben Benson', 'John Ann']\n",
    "print(\"Original list\", name_list) \n",
    "#using lambda function\n",
    "name_list.sort(key=lambda name: name.split()[1]) # sort by lastname\n",
    "print(\"Sorted name list\", name_list)\n",
    "\n",
    "\n"
   ]
  },
  {
   "cell_type": "markdown",
   "metadata": {},
   "source": [
    "The map () function returns a map object(which is an iterator) of the results after applying the given function to each item of a given iterable \n",
    "Syntax: map(fun, iter)"
   ]
  },
  {
   "cell_type": "code",
   "execution_count": 11,
   "metadata": {},
   "outputs": [
    {
     "name": "stdout",
     "output_type": "stream",
     "text": [
      "[10, 12, 14, 16]\n"
     ]
    }
   ],
   "source": [
    "# Function to return double of n\n",
    "def double(n):\n",
    "    return n * 2\n",
    "\n",
    "# Using map to double all numbers\n",
    "numbers = [5, 6, 7, 8]\n",
    "result = map(double, numbers)   # double is a function that will be applied to all the elements of list and new list is returned\n",
    "print(list(result))"
   ]
  },
  {
   "cell_type": "markdown",
   "metadata": {},
   "source": [
    "The reduce function is used to apply a particular function passed in its argument to all of the list elements mentioned in the sequence passed along.This function is defined in “functools” module.\n",
    "Syntax: reduce(func, iterable[, initial])\n",
    "\n",
    "Parameters:\n",
    "\n",
    "fun: It is a function to execuate on each element of the iterable objec\n",
    "iter: It is iterable to be reduced"
   ]
  },
  {
   "cell_type": "code",
   "execution_count": null,
   "metadata": {},
   "outputs": [],
   "source": [
    "import functools\n",
    "\n",
    "# Define a list of numbers\n",
    "numbers = [1, 2, 3, 4]\n",
    "\n",
    "# Use reduce to compute the product of list elements\n",
    "product = functools.reduce(lambda x, y: x * y, numbers) # reduce function first will be applied on 1 and 2 and result will\n",
    "# be returned as 2 that result then with next number 3 is multiplied whose result is multiplied with next number 4 and final\n",
    "# result is given\n",
    "print(\"Product of list elements:\", product)"
   ]
  },
  {
   "cell_type": "markdown",
   "metadata": {},
   "source": [
    "The filter() method filters the given sequence with the help of a function that tests each element in the sequence to be true or not. \n",
    "\n",
    "Syntax: filter(function, sequence)\n",
    "\n",
    "Parameters:\n",
    "\n",
    "function: function that tests if each element of a sequence is true or not.\n",
    "sequence: sequence which needs to be filtered, it can be sets, lists, tuples, or containers of any iterators.\n",
    "Returns: an iterator that is already filtered."
   ]
  },
  {
   "cell_type": "code",
   "execution_count": 14,
   "metadata": {},
   "outputs": [
    {
     "name": "stdout",
     "output_type": "stream",
     "text": [
      "Even numbers: [2, 4, 6, 8, 10]\n"
     ]
    }
   ],
   "source": [
    "def is_even(n):\n",
    "    return n % 2 == 0\n",
    "\n",
    "# Define a list of numbers\n",
    "numbers = [1, 2, 3, 4, 5, 6, 7, 8, 9, 10]\n",
    "\n",
    "# Use filter to filter out even numbers\n",
    "even_numbers = filter(is_even, numbers)\n",
    "print(\"Even numbers:\", list(even_numbers))"
   ]
  }
 ],
 "metadata": {
  "kernelspec": {
   "display_name": "Python 3",
   "language": "python",
   "name": "python3"
  },
  "language_info": {
   "codemirror_mode": {
    "name": "ipython",
    "version": 3
   },
   "file_extension": ".py",
   "mimetype": "text/x-python",
   "name": "python",
   "nbconvert_exporter": "python",
   "pygments_lexer": "ipython3",
   "version": "3.12.2"
  }
 },
 "nbformat": 4,
 "nbformat_minor": 2
}
