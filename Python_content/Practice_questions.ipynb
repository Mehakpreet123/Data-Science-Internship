{
 "cells": [
  {
   "cell_type": "markdown",
   "metadata": {},
   "source": [
    " Area Calculator:\n",
    "Create a function Calculate_area(shape, dimensions) that takes the shape (e.g., \"rectangle\", \"circle\") and its dimensions as arguments.\n",
    "The function should calculate the area based on the shape and return the result.\n",
    "Implement logic for handling different shapes (rectangle, circle) and their corresponding dimensions (length, width for rectangle; radius for circle)"
   ]
  },
  {
   "cell_type": "code",
   "execution_count": 2,
   "metadata": {},
   "outputs": [
    {
     "name": "stdout",
     "output_type": "stream",
     "text": [
      "12.56\n",
      "12\n"
     ]
    }
   ],
   "source": [
    "def calculate_area(shape,*dim):\n",
    "    if (shape==\"circle\"):\n",
    "        print(3.14*dim[0]*dim[0])\n",
    "    elif (shape == \"rectangle\"):\n",
    "        print(dim[0]*dim[1])\n",
    "    elif (shape==\"square\"):\n",
    "        print(dim[0]*dim[0])\n",
    "    else:\n",
    "        print(\"Enter valid shape\")\n",
    "\n",
    "calculate_area(\"circle\",2)\n",
    "calculate_area(\"rectangle\",3,4)"
   ]
  },
  {
   "cell_type": "markdown",
   "metadata": {},
   "source": [
    "String Manipulation:\n",
    "Create a function reverse_words(text) that takes a string as input.\n",
    "The function should reverse the order of words in the string while maintaining the order of characters within each word. -Return the modified string.\n",
    "Hint: Use string methods like split and join to manipulate the words."
   ]
  },
  {
   "cell_type": "code",
   "execution_count": 6,
   "metadata": {},
   "outputs": [
    {
     "name": "stdout",
     "output_type": "stream",
     "text": [
      "olleh dlrow\n"
     ]
    }
   ],
   "source": [
    "def reverse_words(text):\n",
    "    words = text.split(\" \")\n",
    "    reversed_words = [word[::-1] for word in words]  \n",
    "    reversed_text = \" \".join(reversed_words)  \n",
    "    return reversed_text\n",
    "\n",
    "reversed_text = reverse_words(\"hello world\")\n",
    "print(reversed_text) \n",
    "\n"
   ]
  },
  {
   "cell_type": "markdown",
   "metadata": {},
   "source": [
    "List Statistics:\n",
    "Create a function analyze_list(numbers) that takes a list of numbers as input.\n",
    "The function should calculate and return the following in a dictionary:\n",
    "Minimum value in the list\n",
    "Maximum value in the list\n",
    "Average value in the list (use sum and division)\n",
    "Use a dictionary to store and return the calculated statistics.\n",
    "Hint: Utilize built-in functions like min, max, and sum for calculations."
   ]
  },
  {
   "cell_type": "code",
   "execution_count": 9,
   "metadata": {},
   "outputs": [
    {
     "name": "stdout",
     "output_type": "stream",
     "text": [
      "{'min': 12, 'max': 45, 'sum': 114}\n"
     ]
    }
   ],
   "source": [
    "def analyze_list(l):\n",
    "    sum=0\n",
    "    min=l[0]\n",
    "    max=l[0]\n",
    "    for i in l:\n",
    "        sum+=i\n",
    "        if(i<min):\n",
    "            min=i\n",
    "        if(i>max):\n",
    "            max=i\n",
    "    d={\"min\":min,\"max\":max,\"sum\":sum}\n",
    "    print(d)\n",
    "\n",
    "analyze_list([12,23,34,45])\n",
    "    "
   ]
  },
  {
   "cell_type": "markdown",
   "metadata": {},
   "source": [
    " Filtering with Lambda:\n",
    "Create a list of product names (strings).\n",
    "Define a function filter_short_names(names, max_length) that takes the list of names and a maximum length as arguments.\n",
    "Use filter with a lambda function to return a new list containing only names shorter than the provided max_length.\n",
    "Hint: The lambda function should check the length of each name and return True if it's less than max_length."
   ]
  },
  {
   "cell_type": "code",
   "execution_count": 10,
   "metadata": {},
   "outputs": [
    {
     "name": "stdout",
     "output_type": "stream",
     "text": [
      "['Apple']\n"
     ]
    }
   ],
   "source": [
    "def filter_short_names(names, max_length):\n",
    "    return list(filter(lambda name: len(name) < max_length, names))\n",
    "\n",
    "product_names = [\"Apple\", \"Banana\", \"Orange\", \"Grapes\", \"Pineapple\"]\n",
    "max_length = 6\n",
    "short_names = filter_short_names(product_names, max_length)\n",
    "print(short_names)\n"
   ]
  },
  {
   "cell_type": "markdown",
   "metadata": {},
   "source": [
    " Text Analyzer (Bonus Challenge):\n",
    "Create a function analyze_text(text) that takes a block of text as input.\n",
    "The function should:\n",
    "Count the number of words in the text (split by whitespace).\n",
    "Count the number of characters (excluding whitespaces).\n",
    "Find the most frequent word (you can assume case-insensitive matching for simplicity).\n",
    "Return a dictionary containing these counts and the most frequent word.\n",
    "Hint: This might involve using loops, string methods, and potentially keeping track of word occurrences in a dictionary."
   ]
  },
  {
   "cell_type": "code",
   "execution_count": 11,
   "metadata": {},
   "outputs": [
    {
     "name": "stdout",
     "output_type": "stream",
     "text": [
      "{'num_words': 10, 'num_chars': 47, 'most_frequent_word': 'world!'}\n"
     ]
    }
   ],
   "source": [
    "def analyze_text(text):\n",
    "    # Counting the number of words\n",
    "    words = text.split()\n",
    "    num_words = len(words)\n",
    "    \n",
    "    # Counting the number of characters (excluding whitespaces)\n",
    "    num_chars = len(text) - text.count(' ')\n",
    "    \n",
    "    # Creating a dictionary to store word frequencies\n",
    "    word_freq = {}\n",
    "    for word in words:\n",
    "        word = word.lower() \n",
    "        word_freq[word] = word_freq.get(word, 0) + 1\n",
    "    \n",
    "    # Finding the most frequent word\n",
    "    max_freq_word = max(word_freq, key=word_freq.get)\n",
    "\n",
    "    result = {\n",
    "        \"num_words\": num_words,\n",
    "        \"num_chars\": num_chars,\n",
    "        \"most_frequent_word\": max_freq_word\n",
    "    }\n",
    "    \n",
    "    return result\n",
    "text = \"Hello world! This is a sample text. Hello, Python world!\"\n",
    "analysis_result = analyze_text(text)\n",
    "print(analysis_result)\n"
   ]
  }
 ],
 "metadata": {
  "kernelspec": {
   "display_name": "Python 3",
   "language": "python",
   "name": "python3"
  },
  "language_info": {
   "codemirror_mode": {
    "name": "ipython",
    "version": 3
   },
   "file_extension": ".py",
   "mimetype": "text/x-python",
   "name": "python",
   "nbconvert_exporter": "python",
   "pygments_lexer": "ipython3",
   "version": "3.12.2"
  }
 },
 "nbformat": 4,
 "nbformat_minor": 2
}
