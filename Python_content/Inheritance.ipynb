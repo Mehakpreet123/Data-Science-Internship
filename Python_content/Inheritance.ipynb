{
 "cells": [
  {
   "cell_type": "markdown",
   "metadata": {},
   "source": [
    "INHERITENCE\n",
    " It is a mechanism that allows you to create a hierarchy of classes that share a set of properties and methods by deriving a class from another class. Inheritance is the capability of one class to derive or inherit the properties from another class. "
   ]
  },
  {
   "cell_type": "markdown",
   "metadata": {},
   "source": [
    "Class BaseClass:\n",
    "    {Body}\n",
    "Class DerivedClass(BaseClass):\n",
    "    {Body}"
   ]
  },
  {
   "cell_type": "code",
   "execution_count": 1,
   "metadata": {},
   "outputs": [
    {
     "name": "stdout",
     "output_type": "stream",
     "text": [
      "Satyam 102\n",
      "Mayank 103\n",
      "Emp class called\n"
     ]
    }
   ],
   "source": [
    "class Person():  #parent class\n",
    "    def __init__(self, name, id):\n",
    "        self.name = name\n",
    "        self.id = id\n",
    "    \n",
    "    def Display(self):\n",
    "\t    print(self.name, self.id)\n",
    "\n",
    "emp = Person(\"Satyam\", 102)\n",
    "emp.Display()\n",
    "\n",
    "class Emp(Person):\n",
    "    def Print(self):\n",
    "        print(\"Emp class called\")\n",
    "     \n",
    "Emp_details = Emp(\"Mayank\", 103)\n",
    " \n",
    "# calling parent class function\n",
    "Emp_details.Display()\n",
    " \n",
    "# Calling child class function\n",
    "Emp_details.Print()"
   ]
  },
  {
   "cell_type": "markdown",
   "metadata": {},
   "source": [
    "Subclassing (Calling constructor of parent class)\n",
    "If we do not write code to invoke the __init__() of the parent class then its instance variables would not be available to the child class. "
   ]
  },
  {
   "cell_type": "code",
   "execution_count": 2,
   "metadata": {},
   "outputs": [
    {
     "name": "stdout",
     "output_type": "stream",
     "text": [
      "Rahul\n",
      "886012\n"
     ]
    }
   ],
   "source": [
    "class Person():\n",
    "\tdef __init__(self, name, idnumber):\n",
    "\t\tself.name = name\n",
    "\t\tself.idnumber = idnumber\n",
    "\n",
    "\tdef display(self):\n",
    "\t\tprint(self.name)\n",
    "\t\tprint(self.idnumber)\n",
    "\n",
    "class Employee(Person):\n",
    "\tdef __init__(self, name, idnumber, salary, post):\n",
    "\t\tself.salary = salary\n",
    "\t\tself.post = post\n",
    "\n",
    "\t\t# invoking the __init__ of the parent class\n",
    "\t\tPerson.__init__(self, name, idnumber)\n",
    "\n",
    "a = Employee('Rahul', 886012, 200000, \"Intern\")\n",
    "\n",
    "a.display()\n"
   ]
  },
  {
   "cell_type": "markdown",
   "metadata": {},
   "source": [
    "The super() function is a built-in function that returns the objects that represent the parent class. It allows to access the parent class’s methods and attributes in the child class."
   ]
  },
  {
   "cell_type": "code",
   "execution_count": 3,
   "metadata": {},
   "outputs": [
    {
     "name": "stdout",
     "output_type": "stream",
     "text": [
      "Rahul 23\n",
      "Mayank 23\n"
     ]
    }
   ],
   "source": [
    "\n",
    "class Person():\n",
    "\tdef __init__(self, name, age):\n",
    "\t\tself.name = name\n",
    "\t\tself.age = age\n",
    "\tdef display(self):\n",
    "\t    print(self.name, self.age)\n",
    "\n",
    "class Student(Person):\n",
    "\tdef __init__(self, name, age):\n",
    "\t\tself.sName = name\n",
    "\t\tself.sAge = age\n",
    "\t\tsuper().__init__(\"Rahul\", age)\n",
    "\tdef displayInfo(self):\n",
    "\t    print(self.sName, self.sAge)\n",
    "\n",
    "obj = Student(\"Mayank\", 23)\n",
    "obj.display()\n",
    "obj.displayInfo()\n"
   ]
  },
  {
   "cell_type": "markdown",
   "metadata": {},
   "source": [
    "There are 5 different types of inheritance in Python. They are as follows:\n",
    "\n",
    "Single inheritance: When a child class inherits from only one parent class, it is called single inheritance. We saw an example above.\n",
    "Multiple inheritances: When a child class inherits from multiple parent classes, it is called multiple inheritances. "
   ]
  },
  {
   "cell_type": "code",
   "execution_count": 5,
   "metadata": {},
   "outputs": [
    {
     "name": "stdout",
     "output_type": "stream",
     "text": [
      "Base1\n",
      "Base2\n",
      "Derived\n",
      "hello1 hello2\n"
     ]
    }
   ],
   "source": [
    "\n",
    "class Base1():\n",
    "\tdef __init__(self):\n",
    "\t\tself.str1 = \"hello1\"\n",
    "\t\tprint(\"Base1\")\n",
    "\n",
    "\n",
    "class Base2():\n",
    "\tdef __init__(self):\n",
    "\t\tself.str2 = \"hello2\"\n",
    "\t\tprint(\"Base2\")\n",
    "\n",
    "\n",
    "class Derived(Base1, Base2):\n",
    "\tdef __init__(self):\n",
    "\t\tBase1.__init__(self)\n",
    "\t\tBase2.__init__(self)\n",
    "\t\tprint(\"Derived\")\n",
    "\n",
    "\tdef printStrs(self):\n",
    "\t\tprint(self.str1, self.str2)\n",
    "\n",
    "\n",
    "ob = Derived()\n",
    "ob.printStrs()\n"
   ]
  },
  {
   "cell_type": "markdown",
   "metadata": {},
   "source": [
    "Multilevel inheritance: When we have a child and grandchild relationship. This means that a child class will inherit from its parent class, which in turn is inheriting from its parent class."
   ]
  },
  {
   "cell_type": "code",
   "execution_count": 7,
   "metadata": {},
   "outputs": [
    {
     "name": "stdout",
     "output_type": "stream",
     "text": [
      "Name 23 Noida\n"
     ]
    }
   ],
   "source": [
    "class Base(object):\n",
    "\tdef __init__(self, name):\n",
    "\t\tself.name = name\n",
    "\tdef getName(self):\n",
    "\t\treturn self.name\n",
    "\n",
    "class Child(Base):\n",
    "\tdef __init__(self, name, age):\n",
    "\t\tBase.__init__(self, name)\n",
    "\t\tself.age = age\n",
    "\tdef getAge(self):\n",
    "\t\treturn self.age\n",
    "\n",
    "\n",
    "class GrandChild(Child):\n",
    "\tdef __init__(self, name, age, address):\n",
    "\t\tChild.__init__(self, name, age)\n",
    "\t\tself.address = address\n",
    "\tdef getAddress(self):\n",
    "\t\treturn self.address\n",
    "\n",
    "g = GrandChild(\"Name\", 23, \"Noida\")\n",
    "print(g.getName(), g.getAge(), g.getAddress())\n"
   ]
  },
  {
   "cell_type": "markdown",
   "metadata": {},
   "source": [
    "Hierarchical inheritance More than one derived class can be created from a single base.\n",
    "Hybrid inheritance: This form combines more than one form of inheritance. Basically, it is a blend of more than one type of inheritance."
   ]
  },
  {
   "cell_type": "code",
   "execution_count": null,
   "metadata": {},
   "outputs": [],
   "source": [
    "class Animal:\n",
    "    def __init__(self, name):\n",
    "        self.name = name\n",
    "\n",
    "    def make_sound(self):\n",
    "        pass\n",
    "\n",
    "class Dog(Animal):\n",
    "    def make_sound(self):\n",
    "        return \"Woof!\"\n",
    "\n",
    "class Cat(Animal):\n",
    "    def make_sound(self):\n",
    "        return \"Meow!\"\n",
    "\n",
    "class Bird(Animal):\n",
    "    def make_sound(self):\n",
    "        return \"Chirp!\"\n",
    "\n",
    "dog = Dog(\"Buddy\")\n",
    "cat = Cat(\"Whiskers\")\n",
    "bird = Bird(\"Tweetie\")\n",
    "\n",
    "print(dog.name + \" says: \" + dog.make_sound())\n",
    "print(cat.name + \" says: \" + cat.make_sound())\n",
    "print(bird.name + \" says: \" + bird.make_sound())\n"
   ]
  },
  {
   "cell_type": "code",
   "execution_count": 8,
   "metadata": {},
   "outputs": [
    {
     "name": "stdout",
     "output_type": "stream",
     "text": [
      "Buddy gives birth: Live Birth\n",
      "Batty gives birth: Live Birth\n",
      "Polly lays eggs: Egg Birth\n",
      "Perry lays eggs: Egg Birth\n",
      "Perry says: Quack!\n"
     ]
    }
   ],
   "source": [
    "class Animal:\n",
    "    def __init__(self, name):\n",
    "        self.name = name\n",
    "\n",
    "    def make_sound(self):\n",
    "        pass\n",
    "\n",
    "class Mammal(Animal):\n",
    "    def give_birth(self):\n",
    "        return \"Live Birth\"\n",
    "\n",
    "class Bird(Animal):\n",
    "    def lay_eggs(self):\n",
    "        return \"Egg Birth\"\n",
    "\n",
    "class Dog(Mammal):\n",
    "    def make_sound(self):\n",
    "        return \"Woof!\"\n",
    "\n",
    "class Bat(Mammal):\n",
    "    def make_sound(self):\n",
    "        return \"Squeak!\"\n",
    "\n",
    "class Parrot(Bird):\n",
    "    def make_sound(self):\n",
    "        return \"Squawk!\"\n",
    "\n",
    "class Platypus(Mammal, Bird):\n",
    "    def make_sound(self):\n",
    "        return \"Quack!\"\n",
    "\n",
    "dog = Dog(\"Buddy\")\n",
    "bat = Bat(\"Batty\")\n",
    "parrot = Parrot(\"Polly\")\n",
    "platypus = Platypus(\"Perry\")\n",
    "\n",
    "print(dog.name + \" gives birth: \" + dog.give_birth())\n",
    "print(bat.name + \" gives birth: \" + bat.give_birth())\n",
    "print(parrot.name + \" lays eggs: \" + parrot.lay_eggs())\n",
    "print(platypus.name + \" lays eggs: \" + platypus.lay_eggs())\n",
    "print(platypus.name + \" says: \" + platypus.make_sound())\n"
   ]
  }
 ],
 "metadata": {
  "kernelspec": {
   "display_name": "Python 3",
   "language": "python",
   "name": "python3"
  },
  "language_info": {
   "codemirror_mode": {
    "name": "ipython",
    "version": 3
   },
   "file_extension": ".py",
   "mimetype": "text/x-python",
   "name": "python",
   "nbconvert_exporter": "python",
   "pygments_lexer": "ipython3",
   "version": "3.12.2"
  }
 },
 "nbformat": 4,
 "nbformat_minor": 2
}
