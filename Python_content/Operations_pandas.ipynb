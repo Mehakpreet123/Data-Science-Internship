{
 "cells": [
  {
   "cell_type": "markdown",
   "metadata": {},
   "source": [
    "s.apply(func, convert_dtype=True, args=())\n",
    "func: .apply takes a function and applies it to all values of pandas series. convert_dtype: Convert dtype as per the function’s operation. args=(): Additional arguments to pass to function instead of series. Return Type: Pandas Series after applied function/operation."
   ]
  },
  {
   "cell_type": "code",
   "execution_count": 2,
   "metadata": {},
   "outputs": [],
   "source": [
    "import pandas as pd"
   ]
  },
  {
   "cell_type": "code",
   "execution_count": 6,
   "metadata": {},
   "outputs": [
    {
     "data": {
      "text/plain": [
       "np.float64(99.0)"
      ]
     },
     "execution_count": 6,
     "metadata": {},
     "output_type": "execute_result"
    }
   ],
   "source": [
    "df=pd.read_csv(\"C:/Users/HP/Downloads/nba.csv\")\n",
    "df.head()\n",
    "df[\"Number\"].min()\n",
    "df[\"Number\"].max()"
   ]
  },
  {
   "cell_type": "code",
   "execution_count": 7,
   "metadata": {},
   "outputs": [
    {
     "name": "stdout",
     "output_type": "stream",
     "text": [
      "0       Low\n",
      "1      High\n",
      "2    Normal\n",
      "Name: Number, dtype: object\n"
     ]
    }
   ],
   "source": [
    "# defining function to check price\n",
    "def fun(num):\n",
    " \n",
    "    if num<25:\n",
    "        return \"Low\"\n",
    " \n",
    "    elif num>= 25 and num<75:\n",
    "        return \"Normal\"\n",
    " \n",
    "    else:\n",
    "        return \"High\"\n",
    " \n",
    "# passing function to apply and storing returned series in new\n",
    "new = df[\"Number\"].apply(fun)\n",
    " \n",
    "# printing first 3 element\n",
    "print(new.head(3))"
   ]
  },
  {
   "cell_type": "code",
   "execution_count": 8,
   "metadata": {},
   "outputs": [
    {
     "name": "stdout",
     "output_type": "stream",
     "text": [
      "            Name            Team  Number Position   Age Height  Weight  \\\n",
      "0  Avery Bradley  Boston Celtics     0.0       PG  25.0    6-2   180.0   \n",
      "1    Jae Crowder  Boston Celtics    99.0       SF  25.0    6-6   235.0   \n",
      "2   John Holland  Boston Celtics    30.0       SG  27.0    6-5   205.0   \n",
      "3    R.J. Hunter  Boston Celtics    28.0       SG  22.0    6-5   185.0   \n",
      "4  Jonas Jerebko  Boston Celtics     8.0       PF  29.0   6-10   231.0   \n",
      "\n",
      "             College     Salary  \n",
      "0              Texas  7730337.0  \n",
      "1          Marquette  6796117.0  \n",
      "2  Boston University        NaN  \n",
      "3      Georgia State  1148640.0  \n",
      "4                NaN  5000000.0   \n",
      " 0    30.0\n",
      "1    30.0\n",
      "2    32.0\n",
      "3    27.0\n",
      "4    34.0\n",
      "Name: Age, dtype: float64\n",
      "\n",
      "\n",
      "              Name       Team  Number Position   Age Height  Weight College  \\\n",
      "453  Shelvin Mack  Utah Jazz     8.0       PG  26.0    6-3   203.0  Butler   \n",
      "454     Raul Neto  Utah Jazz    25.0       PG  24.0    6-1   179.0     NaN   \n",
      "455  Tibor Pleiss  Utah Jazz    21.0        C  26.0    7-3   256.0     NaN   \n",
      "456   Jeff Withey  Utah Jazz    24.0        C  26.0    7-0   231.0  Kansas   \n",
      "457           NaN        NaN     NaN      NaN   NaN    NaN     NaN     NaN   \n",
      "\n",
      "        Salary  \n",
      "453  2433333.0  \n",
      "454   900000.0  \n",
      "455  2900000.0  \n",
      "456   947276.0  \n",
      "457        NaN   \n",
      " 453    31.0\n",
      "454    29.0\n",
      "455    31.0\n",
      "456    31.0\n",
      "457     NaN\n",
      "Name: Age, dtype: float64\n"
     ]
    }
   ],
   "source": [
    "\n",
    "# adding 5 to each value\n",
    "new = df[\"Age\"].apply(lambda num : num + 5)\n",
    "\n",
    "# printing first 5 elements of old and new series\n",
    "print(df.head(), '\\n', new.head())\n",
    "\n",
    "# printing last 5 elements of old and new series\n",
    "print('\\n\\n', df.tail(), '\\n', new.tail())\n"
   ]
  },
  {
   "cell_type": "markdown",
   "metadata": {},
   "source": [
    "TO APPLY A FUNCTION TO EVERY ROW IN DATAFRAME"
   ]
  },
  {
   "cell_type": "code",
   "execution_count": 9,
   "metadata": {},
   "outputs": [
    {
     "name": "stdout",
     "output_type": "stream",
     "text": [
      "Original DataFrame:\n",
      "    A  B  C\n",
      "0  1  4  7\n",
      "1  2  5  8\n",
      "2  3  6  9\n",
      "\n",
      "After Applying Function: \n",
      "   A  B  C  add\n",
      "0  1  4  7   12\n",
      "1  2  5  8   15\n",
      "2  3  6  9   18\n"
     ]
    }
   ],
   "source": [
    "import pandas as pd\n",
    "\n",
    "# Function to add\n",
    "def add_values(row):\n",
    "\treturn row['A'] + row['B'] + row['C']\n",
    "\n",
    "\n",
    "data = {\n",
    "\t\t'A': [1, 2, 3],\n",
    "\t\t'B': [4, 5, 6],\n",
    "\t\t'C': [7, 8, 9]}\n",
    "\n",
    "# Convert the dictionary into DataFrame\n",
    "df = pd.DataFrame(data)\n",
    "print(\"Original DataFrame:\\n\", df)\n",
    "\n",
    "# Apply the user-defined function to every row\n",
    "df['add'] = df.apply(add_values, axis=1)\n",
    "\n",
    "print('\\nAfter Applying Function: ')\n",
    "print(df)\n"
   ]
  },
  {
   "cell_type": "code",
   "execution_count": 16,
   "metadata": {},
   "outputs": [
    {
     "name": "stdout",
     "output_type": "stream",
     "text": [
      "Original DataFrame:\n",
      "    A  B  C\n",
      "0  1  4  7\n",
      "1  2  5  8\n",
      "2  3  6  9\n",
      "\n",
      "After Applying Function: \n",
      "   A  B  C  add\n",
      "0  1  4  7   12\n",
      "1  2  5  8   15\n",
      "2  3  6  9   18\n"
     ]
    }
   ],
   "source": [
    "# passing the parameters in the function\n",
    "\n",
    "# Import pandas package\n",
    "import pandas as pd\n",
    "# Function to add\n",
    "\n",
    "def add(a, b, c):\n",
    "\treturn a + b + c\n",
    "\n",
    "\n",
    "data = {\n",
    "\t\t'A': [1, 2, 3],\n",
    "\t\t'B': [4, 5, 6],\n",
    "\t\t'C': [7, 8, 9]}\n",
    "\n",
    "\t# Convert the dictionary into DataFrame\n",
    "df = pd.DataFrame(data)\n",
    "print(\"Original DataFrame:\\n\", df)\n",
    "\n",
    "df['add'] = df.apply(lambda row: add(row['A'],\n",
    "                                         row['B'], row['C']), axis=1)\n",
    "\n",
    "#   df['add'] = df.apply(np.sum, axis=1)\n",
    "\n",
    "print('\\nAfter Applying Function: ')\n",
    "\t# printing the new dataframe\n",
    "print(df)\n",
    "\n",
    "\n"
   ]
  },
  {
   "cell_type": "markdown",
   "metadata": {},
   "source": [
    "Dataframe.aggregate() function is used to apply some aggregation across one or more columns.\n",
    "\n",
    "Syntax: DataFrame.aggregate(func, axis=0, *args, **kwargs)\n",
    "\n",
    "Parameters:\n",
    "\n",
    "func : callable, string, dictionary, or list of string/callables. Function to use for aggregating the data. If a function, must either work when passed a DataFrame or when passed to DataFrame.apply. For a DataFrame, can pass a dict, if the keys are DataFrame column names.\n",
    "axis : (default 0) {0 or ‘index’, 1 or ‘columns’} 0 or ‘index’: apply function to each column. 1 or ‘columns’: apply function to each row.\n",
    "Returns: Aggregated DataFrame"
   ]
  },
  {
   "cell_type": "code",
   "execution_count": 22,
   "metadata": {},
   "outputs": [
    {
     "data": {
      "text/html": [
       "<div>\n",
       "<style scoped>\n",
       "    .dataframe tbody tr th:only-of-type {\n",
       "        vertical-align: middle;\n",
       "    }\n",
       "\n",
       "    .dataframe tbody tr th {\n",
       "        vertical-align: top;\n",
       "    }\n",
       "\n",
       "    .dataframe thead th {\n",
       "        text-align: right;\n",
       "    }\n",
       "</style>\n",
       "<table border=\"1\" class=\"dataframe\">\n",
       "  <thead>\n",
       "    <tr style=\"text-align: right;\">\n",
       "      <th></th>\n",
       "      <th>Name</th>\n",
       "      <th>Team</th>\n",
       "      <th>Number</th>\n",
       "      <th>Position</th>\n",
       "      <th>Age</th>\n",
       "      <th>Height</th>\n",
       "      <th>Weight</th>\n",
       "      <th>College</th>\n",
       "      <th>Salary</th>\n",
       "    </tr>\n",
       "  </thead>\n",
       "  <tbody>\n",
       "    <tr>\n",
       "      <th>sum</th>\n",
       "      <td>Avery BradleyJae CrowderR.J. HunterJordan Mick...</td>\n",
       "      <td>Boston CelticsBoston CelticsBoston CelticsBost...</td>\n",
       "      <td>6126.0</td>\n",
       "      <td>PGSFSGPFCPGPGCPGSGSGCSGSGSGPGSGPGCPFPFPFCPGPFS...</td>\n",
       "      <td>9688.0</td>\n",
       "      <td>6-26-66-56-87-06-26-46-95-96-76-67-06-36-46-76...</td>\n",
       "      <td>80002.0</td>\n",
       "      <td>TexasMarquetteGeorgia StateLSUGonzagaLouisvill...</td>\n",
       "      <td>1.681793e+09</td>\n",
       "    </tr>\n",
       "    <tr>\n",
       "      <th>min</th>\n",
       "      <td>Aaron Brooks</td>\n",
       "      <td>Atlanta Hawks</td>\n",
       "      <td>0.0</td>\n",
       "      <td>C</td>\n",
       "      <td>19.0</td>\n",
       "      <td>5-11</td>\n",
       "      <td>161.0</td>\n",
       "      <td>Alabama</td>\n",
       "      <td>5.572200e+04</td>\n",
       "    </tr>\n",
       "  </tbody>\n",
       "</table>\n",
       "</div>"
      ],
      "text/plain": [
       "                                                  Name  \\\n",
       "sum  Avery BradleyJae CrowderR.J. HunterJordan Mick...   \n",
       "min                                       Aaron Brooks   \n",
       "\n",
       "                                                  Team  Number  \\\n",
       "sum  Boston CelticsBoston CelticsBoston CelticsBost...  6126.0   \n",
       "min                                      Atlanta Hawks     0.0   \n",
       "\n",
       "                                              Position     Age  \\\n",
       "sum  PGSFSGPFCPGPGCPGSGSGCSGSGSGPGSGPGCPFPFPFCPGPFS...  9688.0   \n",
       "min                                                  C    19.0   \n",
       "\n",
       "                                                Height   Weight  \\\n",
       "sum  6-26-66-56-87-06-26-46-95-96-76-67-06-36-46-76...  80002.0   \n",
       "min                                               5-11    161.0   \n",
       "\n",
       "                                               College        Salary  \n",
       "sum  TexasMarquetteGeorgia StateLSUGonzagaLouisvill...  1.681793e+09  \n",
       "min                                            Alabama  5.572200e+04  "
      ]
     },
     "execution_count": 22,
     "metadata": {},
     "output_type": "execute_result"
    }
   ],
   "source": [
    "df=pd.read_csv(\"C:/Users/HP/Downloads/nba.csv\")\n",
    "# Applying aggregation across all the columns \n",
    "df.dropna(inplace=True)\n",
    "df.aggregate(['sum','min'])"
   ]
  },
  {
   "cell_type": "code",
   "execution_count": 23,
   "metadata": {},
   "outputs": [
    {
     "data": {
      "text/html": [
       "<div>\n",
       "<style scoped>\n",
       "    .dataframe tbody tr th:only-of-type {\n",
       "        vertical-align: middle;\n",
       "    }\n",
       "\n",
       "    .dataframe tbody tr th {\n",
       "        vertical-align: top;\n",
       "    }\n",
       "\n",
       "    .dataframe thead th {\n",
       "        text-align: right;\n",
       "    }\n",
       "</style>\n",
       "<table border=\"1\" class=\"dataframe\">\n",
       "  <thead>\n",
       "    <tr style=\"text-align: right;\">\n",
       "      <th></th>\n",
       "      <th>Number</th>\n",
       "      <th>Age</th>\n",
       "      <th>Weight</th>\n",
       "      <th>Salary</th>\n",
       "    </tr>\n",
       "  </thead>\n",
       "  <tbody>\n",
       "    <tr>\n",
       "      <th>sum</th>\n",
       "      <td>6126.0</td>\n",
       "      <td>NaN</td>\n",
       "      <td>80002.0</td>\n",
       "      <td>1.681793e+09</td>\n",
       "    </tr>\n",
       "    <tr>\n",
       "      <th>min</th>\n",
       "      <td>0.0</td>\n",
       "      <td>19.0</td>\n",
       "      <td>161.0</td>\n",
       "      <td>NaN</td>\n",
       "    </tr>\n",
       "    <tr>\n",
       "      <th>max</th>\n",
       "      <td>NaN</td>\n",
       "      <td>40.0</td>\n",
       "      <td>NaN</td>\n",
       "      <td>NaN</td>\n",
       "    </tr>\n",
       "  </tbody>\n",
       "</table>\n",
       "</div>"
      ],
      "text/plain": [
       "     Number   Age   Weight        Salary\n",
       "sum  6126.0   NaN  80002.0  1.681793e+09\n",
       "min     0.0  19.0    161.0           NaN\n",
       "max     NaN  40.0      NaN           NaN"
      ]
     },
     "execution_count": 23,
     "metadata": {},
     "output_type": "execute_result"
    }
   ],
   "source": [
    "# We are going to find aggregation for these columns \n",
    "df.aggregate({\"Number\":['sum', 'min'], \n",
    "              \"Age\":['max', 'min'], \n",
    "              \"Weight\":['min', 'sum'],  \n",
    "              \"Salary\":['sum']}) "
   ]
  },
  {
   "cell_type": "markdown",
   "metadata": {},
   "source": [
    "Pandas Series.value_counts() function return a Series containing counts of unique values. The resulting object will be in descending order so that the first element is the most frequently-occurring element. Excludes NA values by default.\n",
    "\n",
    "Syntax: Series.value_counts(normalize=False, sort=True, ascending=False, bins=None, dropna=True)\n",
    "\n",
    "Parameter :\n",
    "normalize : If True then the object returned will contain the relative frequencies of the unique values.\n",
    "sort : Sort by values.\n",
    "ascending : Sort in ascending order.\n",
    "bins : Rather than count values, group them into half-open bins, a convenience for pd.cut, only works with numeric data.\n",
    "dropna : Don’t include counts of NaN.\n",
    "\n",
    "Returns : counts : Series"
   ]
  },
  {
   "cell_type": "code",
   "execution_count": 25,
   "metadata": {},
   "outputs": [
    {
     "name": "stdout",
     "output_type": "stream",
     "text": [
      "0    New York\n",
      "1     Chicago\n",
      "2     Toronto\n",
      "3      Lisbon\n",
      "4         Rio\n",
      "5     Chicago\n",
      "6      Lisbon\n",
      "dtype: object\n"
     ]
    },
    {
     "data": {
      "text/plain": [
       "Chicago     2\n",
       "Lisbon      2\n",
       "New York    1\n",
       "Toronto     1\n",
       "Rio         1\n",
       "Name: count, dtype: int64"
      ]
     },
     "execution_count": 25,
     "metadata": {},
     "output_type": "execute_result"
    }
   ],
   "source": [
    "\n",
    "sr = pd.Series(['New York', 'Chicago', 'Toronto', 'Lisbon', 'Rio', 'Chicago', 'Lisbon']) \n",
    "\n",
    "# Print the series \n",
    "print(sr)\n",
    "# find the value counts \n",
    "sr.value_counts() \n",
    "\n"
   ]
  },
  {
   "cell_type": "markdown",
   "metadata": {},
   "source": [
    "unique()\n",
    "The unique() method returns the unique values in a pandas Series or DataFrame column.\n"
   ]
  },
  {
   "cell_type": "code",
   "execution_count": 31,
   "metadata": {},
   "outputs": [
    {
     "name": "stdout",
     "output_type": "stream",
     "text": [
      "[1 'b' 2 4]\n",
      "['a' 'b' 'c']\n"
     ]
    }
   ],
   "source": [
    "df = pd.DataFrame({\n",
    "    'A': [1, 'b', 2, 4],\n",
    "    'B': ['a', 'b', 'b', 'c']\n",
    "})\n",
    "\n",
    "unique_values_A = df['A'].unique()\n",
    "print(unique_values_A)  # Output: [1 2 4]\n",
    "\n",
    "# Unique values in column B\n",
    "unique_values_B = df['B'].unique()\n",
    "print(unique_values_B)  # Output: ['a' 'b' 'c']\n"
   ]
  },
  {
   "cell_type": "markdown",
   "metadata": {},
   "source": [
    "nunique()\n",
    "The nunique() method returns the number of unique values in a pandas Series or DataFrame. It can also be applied across different axes.\n",
    "\n",
    "df.nunique(axis=0)  # Count unique values for each column\n",
    "df.nunique(axis=1)  # Count unique values for each row"
   ]
  },
  {
   "cell_type": "code",
   "execution_count": 32,
   "metadata": {},
   "outputs": [
    {
     "name": "stdout",
     "output_type": "stream",
     "text": [
      "4\n",
      "--------------------------------------------\n",
      "0    2\n",
      "1    1\n",
      "2    2\n",
      "3    2\n",
      "dtype: int64\n",
      "--------------------------------------------\n",
      "3\n",
      "--------------------------------------------\n",
      "A    4\n",
      "B    3\n",
      "dtype: int64\n"
     ]
    }
   ],
   "source": [
    "nunique_A = df['A'].nunique()\n",
    "print(nunique_A)  # Output: 3\n",
    "print('--------------------------------------------')\n",
    "nunique_A = df.nunique(axis=1)\n",
    "print(nunique_A)  \n",
    "print('--------------------------------------------')\n",
    "# Number of unique values in column B\n",
    "nunique_B = df['B'].nunique()\n",
    "print(nunique_B)  # Output: 3\n",
    "print('--------------------------------------------')\n",
    "# Number of unique values in each column\n",
    "nunique_df = df.nunique()\n",
    "print(nunique_df)  # Output: A    3\n",
    "                   #          B    3\n",
    "                   #          dtype: int64"
   ]
  }
 ],
 "metadata": {
  "kernelspec": {
   "display_name": "Python 3",
   "language": "python",
   "name": "python3"
  },
  "language_info": {
   "codemirror_mode": {
    "name": "ipython",
    "version": 3
   },
   "file_extension": ".py",
   "mimetype": "text/x-python",
   "name": "python",
   "nbconvert_exporter": "python",
   "pygments_lexer": "ipython3",
   "version": "3.12.4"
  }
 },
 "nbformat": 4,
 "nbformat_minor": 2
}
